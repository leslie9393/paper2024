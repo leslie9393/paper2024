{
 "cells": [
  {
   "cell_type": "code",
   "execution_count": null,
   "id": "9d85e01c",
   "metadata": {},
   "outputs": [],
   "source": [
    "import pandas as pd\n",
    "import numpy as np\n",
    "from scipy.spatial import cKDTree\n",
    "from geopy.distance import geodesic\n",
    "import re\n",
    "import openpyxl\n",
    "from openpyxl import load_workbook\n",
    "import datetime\n",
    "import statsmodels.api as sm\n",
    "import requests\n",
    "from geopy.distance import distance\n",
    "from datetime import datetime, timedelta"
   ]
  },
  {
   "cell_type": "code",
   "execution_count": null,
   "id": "a5fdbeaa",
   "metadata": {},
   "outputs": [],
   "source": [
    "import pandoc"
   ]
  },
  {
   "cell_type": "code",
   "execution_count": null,
   "id": "dfbad507",
   "metadata": {},
   "outputs": [],
   "source": [
    "## 根据店铺名称确认经纬度\n",
    "## 读取o2o店铺文件\n",
    "\n",
    "# 打开Excel文件\n",
    "wb = openpyxl.load_workbook('/Users/lesliedeng/Desktop/毕设/rawdata/昆明O2O.xlsx')\n",
    "\n",
    "# 选择Sheet表\n",
    "sheet = wb['昆明门店开通O2O时间'] \n",
    "\n",
    "# 提取创建时间列数据\n",
    "time = sheet['a']\n",
    "# 提取门店列数据\n",
    "column = sheet['b']\n",
    "# 提取店编\n",
    "sapcolumn = sheet['c']\n",
    " \n",
    "# 创建空列表\n",
    "data = []\n",
    "timecode=[]\n",
    "\n",
    "# 迭代column对象,将单元格数据添加到列表中\n",
    "for cell in column[1:]:\n",
    "    data.append(cell.value)\n",
    "for cell in time[1:]:\n",
    "    timecode.append(cell.value)\n",
    "sap = [cell.value for cell in sapcolumn[1:]]\n",
    "    \n",
    "# data现在是第3列所有单元格数据的列表    \n",
    "print(data)"
   ]
  },
  {
   "cell_type": "code",
   "execution_count": null,
   "id": "29b5750b",
   "metadata": {},
   "outputs": [],
   "source": [
    "import requests\n",
    "\n",
    "# 百度地图API密钥\n",
    "ak = 'Kadu7cjY7eFAofC5zi5EOaYWR9GDv8LC' \n",
    "\n",
    "# 空列表设置\n",
    "longitude_list = []\n",
    "latitude_list = []\n",
    "comprehension_list = []\n",
    "confidence_list = []\n",
    "\n",
    "for shop_name in data:\n",
    "\n",
    "    # 构建请求URL\n",
    "    url = f'https://api.map.baidu.com/geocoding/v3/?address={shop_name}&output=json&ak={ak}'\n",
    "\n",
    "    # 发送请求并获取响应\n",
    "    response = requests.get(url)\n",
    "    data = response.json()\n",
    "\n",
    "    # 从响应中提取经纬度\n",
    "    location = data['result']['location']\n",
    "    lng = location['lng']     # 经度\n",
    "    lat = location['lat']     # 纬度\n",
    "    comprehension = data['result']['comprehension'] #理解度\n",
    "    confidence = data['result']['confidence'] #绝对精度 https://lbsyun.baidu.com/index.php?title=webapi/guide/webservice-geocoding\n",
    "\n",
    "    \n",
    "    # 将经纬度数据添加到列表中\n",
    "    longitude_list.append(lng)\n",
    "    latitude_list.append(lat)\n",
    "    comprehension_list.append(comprehension)\n",
    "    confidence_list.append(confidence)"
   ]
  },
  {
   "cell_type": "code",
   "execution_count": null,
   "id": "f4beef01",
   "metadata": {},
   "outputs": [],
   "source": [
    "####高德地图版本\n",
    "#import requests\n",
    "\n",
    "#def get_location_by_name(name, city=None):\n",
    "#    url = 'https://restapi.amap.com/v3/place/text'\n",
    "#     params = {'key': 'd59cea0731fa323798939f011e9be2bc',\n",
    "#               'keywords': name,\n",
    "#               'city': city}\n",
    "#     response = requests.get(url, params=params)\n",
    "#     data = response.json()\n",
    "#     if data['count'] == '0':\n",
    "#         return None\n",
    "#     location = data['pois'][0]['location'].split(',')\n",
    "#     return float(location[0]), float(location[1])\n"
   ]
  },
  {
   "cell_type": "code",
   "execution_count": null,
   "id": "6ed84d8c",
   "metadata": {},
   "outputs": [],
   "source": [
    "# 空列表设置\n",
    "addresscode = pd.DataFrame()\n",
    "\n",
    "# 循环遍历经纬度数据，并将它们添加到 DataFrame 中\n",
    "for i in range(len(longitude_list)):\n",
    "    addresscode.loc[i, 'longitude'] = longitude_list[i]\n",
    "    addresscode.loc[i, 'latitude'] = latitude_list[i]\n",
    "    addresscode.loc[i, 'comprehension'] = comprehension_list[i]\n",
    "    addresscode.loc[i, 'confidence'] = confidence_list[i]\n",
    "    addresscode.loc[i, 'time'] = timecode[i]\n",
    "    addresscode.loc[i, 'sap'] = sap[i]\n",
    "    \n",
    "addresscode.to_excel('addresscode.xlsx', index=False)"
   ]
  },
  {
   "cell_type": "code",
   "execution_count": null,
   "id": "f6e69e88",
   "metadata": {},
   "outputs": [],
   "source": [
    "#####################################"
   ]
  },
  {
   "cell_type": "code",
   "execution_count": null,
   "id": "f072ef27",
   "metadata": {},
   "outputs": [],
   "source": [
    "#文件切割\n",
    "\n",
    "# 读取原始 Excel 文件\n",
    "df = pd.read_excel('/Users/lesliedeng/Desktop/毕设/昆明天猫.xlsx')\n",
    "\n",
    "# 每个子文件的行数\n",
    "chunk_size = 4000\n",
    "\n",
    "# 计算子文件数量\n",
    "num_chunks = (df.shape[0] - 1) // chunk_size + 1\n",
    "\n",
    "# 将数据拆分为多个子 DataFrame，每个子 DataFrame 包含指定数量的行\n",
    "for i in range(num_chunks):\n",
    "    start = i * chunk_size\n",
    "    end = min(start + chunk_size, df.shape[0])\n",
    "    chunk = df.iloc[start:end, :]\n",
    "    \n",
    "    # 将子 DataFrame 保存为一个新的 Excel 文件\n",
    "    filename = f'昆明天猫chunk_{i+1}.xlsx'\n",
    "    chunk.to_excel(filename, index=False)"
   ]
  },
  {
   "cell_type": "code",
   "execution_count": null,
   "id": "0d9001d1",
   "metadata": {},
   "outputs": [],
   "source": [
    "### 洗地址，最好是洗完了再来切文件\n",
    "\n",
    "# 加载 Excel 文件\n",
    "workbook = load_workbook(filename='昆明天猫chunk_6.xlsx')\n",
    "\n",
    "# 获取工作表\n",
    "worksheet = workbook.active\n",
    "\n",
    "# 遍历单元格\n",
    "for row in worksheet.iter_rows():\n",
    "    cell = row[6]  # 假设要删除的列为 G 列，即第 7 列\n",
    "    if cell.value:\n",
    "        # 删除指定字符串内容\n",
    "        cell.value = cell.value.replace('云南省昆明市宜良县云南省 ', ' ').replace('', '')\n",
    "        cell.value = cell.value.replace('云南省昆明市寻甸回族彝族自治县云南省 ', ' ').replace('', '')\n",
    "        cell.value = cell.value.replace('云南省昆明市西山区云南省 ', ' ').replace('', '')\n",
    "        cell.value = cell.value.replace('云南省昆明市五华区云南省 ', ' ').replace('', '')\n",
    "        cell.value = cell.value.replace('云南省昆明市嵩明县云南省  ', ' ').replace('', '')\n",
    "        cell.value = cell.value.replace('云南省昆明市石林彝族自治县云南省 ', ' ').replace('', '')\n",
    "        cell.value = cell.value.replace('云南省昆明市盘龙区云南省 ', ' ').replace('', '')\n",
    "        cell.value = cell.value.replace('云南省昆明市禄劝彝族苗族自治县云南省 ', ' ').replace('', '')\n",
    "        cell.value = cell.value.replace('云南省昆明市晋宁区云南省 ', ' ').replace('', '')\n",
    "        cell.value = cell.value.replace('云南省昆明市官渡区云南省 ', ' ').replace('', '')\n",
    "        cell.value = cell.value.replace('云南省昆明市富民县云南省 ', ' ').replace('', '')\n",
    "        cell.value = cell.value.replace('云南省昆明市东川区云南省 ', ' ').replace('', '')\n",
    "        cell.value = cell.value.replace('云南省昆明市呈贡区云南省 ', ' ').replace('', '')\n",
    "        cell.value = cell.value.replace('云南省昆明市安宁市云南省 ', ' ').replace('', '')\n",
    "        cell.value = cell.value.replace('云南省', ' ').replace('', '')\n",
    "        cell.value = cell.value.replace('昆明市五华区昆明国家高新技术产业开发区','').replace('昆明国家高新技术产业开发区','')\n",
    "        cell.value = cell.value.replace('昆明市西山区昆明滇池国家旅游度假区','').replace('昆明滇池国家旅游度假区','')\n",
    "        cell.value = cell.value.replace('昆明市官渡区昆明经济技术开发区','').replace('昆明经济技术开发区','')\n",
    "    match = re.search(r'[\\u4e00-\\u9fa5]*（[^（）]*）', cell.value)\n",
    "    if match:\n",
    "        # 删除括号和括号中的字符\n",
    "        cell.value = re.sub(r'（[^（）]*）', '', cell.value)\n",
    "\n",
    "# 保存 Excel 文件\n",
    "workbook.save(filename='昆明天猫chunk_6_use.xlsx')"
   ]
  },
  {
   "cell_type": "code",
   "execution_count": null,
   "id": "becbee5d",
   "metadata": {},
   "outputs": [],
   "source": [
    "## 读取销售数据文件\n",
    "import openpyxl\n",
    "\n",
    "# 打开Excel文件\n",
    "wb = openpyxl.load_workbook('/Users/lesliedeng/Desktop/毕设/老年/jd_deliverycode_use_3.xlsx') ###注意更换\n",
    "\n",
    "# 选择Sheet表\n",
    "worksheet = wb['Sheet1'] \n",
    "\n",
    "worksheet['B1'] = 'longitude'\n",
    "worksheet['C1'] = 'latitude'\n",
    "worksheet['D1'] = 'comprehension'\n",
    "worksheet['E1'] = 'confidence'\n",
    "worksheet['F1'] = 'precise'"
   ]
  },
  {
   "cell_type": "code",
   "execution_count": null,
   "id": "a5ce232c",
   "metadata": {},
   "outputs": [],
   "source": [
    "row"
   ]
  },
  {
   "cell_type": "code",
   "execution_count": null,
   "id": "1bf44a8e",
   "metadata": {},
   "outputs": [],
   "source": [
    "# 百度地图API密钥\n",
    "ak = 'eWMineUOS3dzbfOCHBqtclfn81hnyqZ7'\n",
    "#'Kadu7cjY7eFAofC5zi5EOaYWR9GDv8LC'\n",
    "#'AOAM2zC7CBsq2dGpdSMjtCtuGWn2F0rd'\n",
    "\n",
    "for row in range(1375, worksheet.max_row + 1):\n",
    "    delivery_place = worksheet.cell(row=row, column=1).value\n",
    "    \n",
    "    # 构建请求URL\n",
    "    url = f'https://api.map.baidu.com/geocoding/v3/?address={delivery_place}&output=json&ak={ak}'\n",
    "\n",
    "    # 发送请求并获取响应\n",
    "    response = requests.get(url)\n",
    "    data = response.json()\n",
    "\n",
    "    # 从响应中提取经纬度\n",
    "    location = data['result']['location']\n",
    "    worksheet.cell(row=row, column=2).value = location['lng']     # 经度\n",
    "    worksheet.cell(row=row, column=3).value = location['lat']     # 纬度\n",
    "    worksheet.cell(row=row, column=4).value = data['result']['comprehension'] #理解度\n",
    "    worksheet.cell(row=row, column=5).value = data['result']['confidence'] #绝对精度 https://lbsyun.baidu.com/index.php?title=webapi/guide/webservice-geocoding\n",
    "    worksheet.cell(row=row, column=6).value = data['result']['precise']\n",
    "\n",
    "# 保存 Excel 文件\n",
    "df = pd.DataFrame(worksheet.values)\n",
    "df.to_excel('jd_deliverycode_3.xlsx', index=False) ##记得改名字"
   ]
  },
  {
   "cell_type": "markdown",
   "id": "5b69a251",
   "metadata": {},
   "source": [
    "### 独立保存经纬度"
   ]
  },
  {
   "cell_type": "code",
   "execution_count": null,
   "id": "4283c4c1",
   "metadata": {},
   "outputs": [],
   "source": [
    "## 读取销售数据文件\n",
    "import openpyxl\n",
    "\n",
    "# 打开Excel文件\n",
    "wb = openpyxl.load_workbook('/Users/lesliedeng/Desktop/毕设/code/finaldata/jd_delivery_use_4.xlsx') ###注意更换\n",
    "\n",
    "# 选择Sheet表\n",
    "sheet = wb['Sheet1'] \n",
    "\n",
    "# 提取创建收货地址数据\n",
    "column1 = sheet['g']\n",
    "# 提取金额列数据\n",
    "column2 = sheet['h']\n",
    "# 提取时间列\n",
    "column3= sheet['b']\n",
    "\n",
    "# 创建空列表\n",
    "delivery = []\n",
    "pay = []\n",
    "d_time = []\n",
    "\n",
    "# 迭代column对象,将单元格数据添加到列表中\n",
    "for cell in column1[1:]:\n",
    "    delivery.append(cell.value)\n",
    "for cell in column2[1:]:\n",
    "    pay.append(cell.value)\n",
    "for cell in column3[1:]:\n",
    "    d_time.append(cell.value)\n",
    "    \n",
    "# 空列表设置\n",
    "d_longitude_list = []\n",
    "d_latitude_list = []\n",
    "d_comprehension_list = []\n",
    "d_confidence_list = []\n",
    "\n",
    "# 百度地图API密钥\n",
    "ak = 'Kadu7cjY7eFAofC5zi5EOaYWR9GDv8LC' \n",
    "## 师兄的api：eWMineUOS3dzbfOCHBqtclfn81hnyqZ7\n",
    "## zrlm的api：AOAM2zC7CBsq2dGpdSMjtCtuGWn2F0rd\n",
    "\n",
    "for delivery_place in delivery:\n",
    "\n",
    "    # 构建请求URL\n",
    "    url = f'https://api.map.baidu.com/geocoding/v3/?address={delivery_place}&output=json&ak={ak}'\n",
    "\n",
    "    # 发送请求并获取响应\n",
    "    response = requests.get(url)\n",
    "    data = response.json()\n",
    "\n",
    "    # 从响应中提取经纬度\n",
    "    location = data['result']['location']\n",
    "    lng = location['lng']     # 经度\n",
    "    lat = location['lat']     # 纬度\n",
    "    comprehension = data['result']['comprehension'] #理解度\n",
    "    confidence = data['result']['confidence'] #绝对精度 https://lbsyun.baidu.com/index.php?title=webapi/guide/webservice-geocoding\n",
    "\n",
    "    # 将经纬度数据添加到列表中\n",
    "    d_longitude_list.append(lng)\n",
    "    d_latitude_list.append(lat)\n",
    "    d_comprehension_list.append(comprehension)\n",
    "    d_confidence_list.append(confidence)"
   ]
  },
  {
   "cell_type": "code",
   "execution_count": null,
   "id": "d88e6033",
   "metadata": {},
   "outputs": [],
   "source": [
    "# 空列表设置\n",
    "deliverycode = pd.DataFrame()\n",
    "\n",
    "# 循环遍历经纬度数据，并将它们添加到 DataFrame 中\n",
    "for i in range(len(d_longitude_list)): #如果调试，这里也要改\n",
    "    deliverycode.loc[i, 'longitude'] = d_longitude_list[i]\n",
    "    deliverycode.loc[i, 'latitude'] = d_latitude_list[i]\n",
    "    deliverycode.loc[i, 'comprehension'] = d_comprehension_list[i]\n",
    "    deliverycode.loc[i, 'confidence'] = d_confidence_list[i]\n",
    "    deliverycode.loc[i, 'd_time'] = d_time[i]\n",
    "    deliverycode.loc[i, 'pay'] = pay[i]\n",
    "\n",
    "# 打印 DataFrame\n",
    "print(deliverycode.head())\n",
    "deliverycode.to_excel('deliverycode_1的副本副本.xlsx', index=False)"
   ]
  },
  {
   "cell_type": "markdown",
   "id": "73b81d22",
   "metadata": {},
   "source": [
    "### 多个文件合并"
   ]
  },
  {
   "cell_type": "code",
   "execution_count": null,
   "id": "b64cce80",
   "metadata": {},
   "outputs": [],
   "source": [
    "df1 = pd.read_excel('/Users/lesliedeng/Desktop/毕设/code/finaldata/deliverycode_1.xlsx', usecols=['longitude', 'latitude', 'comprehension','confidence','出货日期','订购金额'])\n",
    "df2 = pd.read_excel('/Users/lesliedeng/Desktop/毕设/code/finaldata/deliverycode_2.xlsx', usecols=['longitude', 'latitude', 'comprehension','confidence','出货日期','订购金额'])\n",
    "df3 = pd.read_excel('/Users/lesliedeng/Desktop/毕设/code/finaldata/deliverycode_3.xlsx', usecols=['longitude', 'latitude', 'comprehension','confidence','出货日期','订购金额'])\n",
    "df4 = pd.read_excel('/Users/lesliedeng/Desktop/毕设/code/finaldata/deliverycode_4.xlsx', usecols=['longitude', 'latitude', 'comprehension','confidence','出货日期','订购金额'])\n",
    "df5 = pd.read_excel('/Users/lesliedeng/Desktop/毕设/code/finaldata/deliverycode_5.xlsx', usecols=['longitude', 'latitude', 'comprehension','confidence','出货日期','订购金额'])\n",
    "df6 = pd.read_excel('/Users/lesliedeng/Desktop/毕设/code/finaldata/deliverycode_6.xlsx', usecols=['longitude', 'latitude', 'comprehension','confidence','出货日期','订购金额'])\n",
    "df7 = pd.read_excel('/Users/lesliedeng/Desktop/毕设/code/finaldata/deliverycode_7.xlsx', usecols=['longitude', 'latitude', 'comprehension','confidence','出货日期','订购金额'])\n",
    "\n",
    "merged_df = pd.concat([df1, df2, df3, df4, df5, df6, df7],ignore_index=True)\n",
    "print(merged_df)\n",
    "\n",
    "# 将合并后的结果保存为 CSV 文件\n",
    "merged_df.to_csv('tmall_delivery_all.csv', index=False)"
   ]
  },
  {
   "cell_type": "code",
   "execution_count": null,
   "id": "31fc4742",
   "metadata": {},
   "outputs": [],
   "source": [
    "######################验证距离精度\n",
    "# from math import sin, cos, sqrt, atan2, radians\n",
    "\n",
    "# # approximate radius of earth in km\n",
    "# R = 6373.0\n",
    "\n",
    "# lat1 = radians(24.757752)\n",
    "# lon1 = radians(103.266347)\n",
    "# lat2 = radians(25.05927301)\n",
    "# lon2 = radians(102.7524242)\n",
    "\n",
    "# dlon = lon2 - lon1\n",
    "# dlat = lat2 - lat1\n",
    "\n",
    "# a = sin(dlat / 2)**2 + cos(lat1) * cos(lat2) * sin(dlon / 2)**2\n",
    "# c = 2 * atan2(sqrt(a), sqrt(1 - a))\n",
    "\n",
    "# distance = R * c\n",
    "\n",
    "# print(\"Distance between the two points is:\", distance, \"km\")"
   ]
  },
  {
   "cell_type": "code",
   "execution_count": null,
   "id": "23317f46",
   "metadata": {
    "scrolled": true
   },
   "outputs": [],
   "source": [
    "orders"
   ]
  },
  {
   "cell_type": "markdown",
   "id": "54722852",
   "metadata": {},
   "source": [
    "# 回归"
   ]
  },
  {
   "cell_type": "code",
   "execution_count": null,
   "id": "de138e4e",
   "metadata": {},
   "outputs": [],
   "source": [
    "import pandas as pd\n",
    "# 读取店铺经纬度数据\n",
    "stores = pd.read_excel('/Users/lesliedeng/Desktop/毕设/code/finaldata/店铺地址与时间202102-08.xlsx')\n",
    "    #)\n",
    "    \n",
    "stores['setup_time'] = pd.to_datetime(stores['setup_time'])\n",
    "\n",
    "# 读取订单经纬度数据\n",
    "orders = pd.read_excel('/Users/lesliedeng/Desktop/毕设/code/tm_昆明销售按类别带地理.xlsx') #/Users/lesliedeng/Desktop/毕设/code/finaldata/jd_ deliverycode_use_210108.xlsx\n",
    "orders['出货日期'] = pd.to_datetime(orders['出货日期'])\n",
    "\n",
    "# 构建 KD 树\n",
    "tree = cKDTree(stores[['latitude', 'longitude']].values)\n",
    "\n",
    "# 查找每个订单最近的店铺距离和索引，最近的一个：k=1\n",
    "distances, indices = tree.query(orders[['latitude', 'longitude']].values, k=1)\n",
    "distances = distances * 111\n",
    "\n",
    "# 将距离小于等于5公里的订单归类为相应的店铺\n",
    "# orders['store_id'] = np.nan\n",
    "orders.loc[distances <= 5, 'store_id'] = stores.loc[indices[distances <= 5], 'store_id'].values\n",
    "# orders.to_csv('orders_jd_all_with_store202102-08_revisedstore.csv',index = False)\n",
    "\n",
    "# from geopy.distance import distance\n",
    "\n",
    "# # 为每个订单找到最近的店铺\n",
    "# closest_shops = []\n",
    "# closest_dists = []\n",
    "# for _, order in orders.iterrows():\n",
    "#     closest_shop = None\n",
    "#     min_distance = float('inf')\n",
    "#     for _, shop in stores.iterrows():\n",
    "#         if order['出货日期'] >= shop['setup_time']:\n",
    "#             d = distance((order['latitude'], order['longitude']),(shop['latitude'], shop['longitude'])).km\n",
    "#             if d < min_distance:\n",
    "#                 closest_shop = shop['store_id']\n",
    "#                 closest_dist = d\n",
    "#                 min_distance = d\n",
    "#     closest_shops.append(closest_shop)\n",
    "#     closest_dists.append(closest_dist)\n",
    "    \n",
    "# # 将最近的店铺作为新的一列添加到订单表中\n",
    "# orders['closest_shop'] = closest_shops\n",
    "# orders['closest_dist'] = closest_dists\n",
    "# orders.to_csv('orders_tmall_all_with_store_timecompared.csv',index = False)"
   ]
  },
  {
   "cell_type": "code",
   "execution_count": null,
   "id": "96f42ded",
   "metadata": {},
   "outputs": [],
   "source": [
    "orders.dropna(subset=['store_id'], inplace=True)\n",
    "orders"
   ]
  },
  {
   "cell_type": "code",
   "execution_count": null,
   "id": "f9dd1b4a",
   "metadata": {
    "scrolled": true
   },
   "outputs": [],
   "source": [
    "# 查看空白匹配\n",
    "missing_store_id = orders[orders['store_id'].isnull()]\n",
    "print(missing_store_id.head())\n",
    "merged_data = pd.merge(orders, stores[['store_id', 'setup_time']], on='store_id', how='left')\n",
    "merged_data"
   ]
  },
  {
   "cell_type": "code",
   "execution_count": null,
   "id": "180000de",
   "metadata": {
    "scrolled": true
   },
   "outputs": [],
   "source": [
    "merged_data['出货日期'] = pd.to_datetime(merged_data['出货日期'])\n",
    "merged_data['setup_time'] = pd.to_datetime(merged_data['setup_time'])\n",
    "for i in range(len(merged_data['store_id'])):\n",
    "    if merged_data.loc[i,'出货日期'] < merged_data.loc[i,'setup_time']:\n",
    "        merged_data.loc[i,'open'] = 0\n",
    "    else:\n",
    "        merged_data.loc[i,'open'] = 1\n",
    "merged_data"
   ]
  },
  {
   "cell_type": "code",
   "execution_count": null,
   "id": "bef744a8",
   "metadata": {
    "scrolled": true
   },
   "outputs": [],
   "source": [
    "\n",
    "merged_data['出货_week_number'] = merged_data['出货日期'].dt.isocalendar().week\n",
    "merged_data['setup_time_week_number'] = merged_data['setup_time'].dt.isocalendar().week\n",
    "# merged_data.to_csv('orders_tmall_week_number.csv',index = False)\n",
    "\n",
    "# merged_data['出货_month_number'] = merged_data['出货日期'].dt.strftime('%Y-%m')\n",
    "# merged_data['setup_time_month_number'] = merged_data['setup_time'].dt.strftime('%Y-%m')\n",
    "\n",
    "# merged_data.to_csv('orders_jd_month_number_2122.csv',index = False)\n",
    "# dummy_variables = pd.get_dummies(merged_data['national cata'], prefix='national_cata')\n",
    "# merged_data = pd.concat([merged_data, dummy_variables], axis=1)\n",
    "\n",
    "merged_data"
   ]
  },
  {
   "cell_type": "code",
   "execution_count": null,
   "id": "1578b934",
   "metadata": {
    "scrolled": true
   },
   "outputs": [],
   "source": [
    "variables = merged_data.columns\n",
    "print(variables)"
   ]
  },
  {
   "cell_type": "code",
   "execution_count": null,
   "id": "8c621d8b",
   "metadata": {},
   "outputs": [],
   "source": [
    "# merged_data=pd.read_csv('orders_tmall_month_number_2021revised.csv')\n",
    "# merged_data"
   ]
  },
  {
   "cell_type": "code",
   "execution_count": null,
   "id": "d1fc20f8",
   "metadata": {},
   "outputs": [],
   "source": [
    "# # 将订单数据按照出货日期进行分组，然后对每个组的订单金额进行求和\n",
    "# orders_by_date = merged_data.groupby(['store_id','出货日期']).agg({'订购金额': 'sum'})\n",
    "# orders_by_date = orders_by_date.reset_index()\n",
    "# orders_by_date.to_csv('orders_by_date.csv', index=False)\n",
    "# print(orders_by_date)\n",
    "\n",
    "orders_by_date = merged_data.groupby(['store_id','出货_week_number']).agg({'amount': 'sum'})\n",
    "# orders_by_date = orders_by_date.reset_index()\n",
    "# orders_by_date.to_csv('orders_by_week.csv', index=False)\n",
    "# print(orders_by_date)\n",
    "\n",
    "# #按照week算，145*32=4640【-[4163 rows】=447零值\n",
    "\n",
    "#变量设置\n",
    "#orders_by_date = merged_data.groupby(['store_id','出货_month_number']).agg({'amount': 'sum'})\n",
    "#'otc0','otc1','otc2','open','otc0','national cata'\n",
    "# amount\n",
    "\n",
    "orders_by_date = orders_by_date.reset_index()\n",
    "# orders_by_date.to_csv('orders_by_month_2021.csv', index=False)\n",
    "print(orders_by_date)\n",
    "\n",
    "# 460*8 = 3680 -3404 = 276零值\n",
    "# 174*8= 1392 -1360 = 32 "
   ]
  },
  {
   "cell_type": "code",
   "execution_count": null,
   "id": "1233955c",
   "metadata": {},
   "outputs": [],
   "source": [
    "orders_by_date.to_csv('tm_id_amout_withnoopen_week_3km.csv')"
   ]
  },
  {
   "cell_type": "code",
   "execution_count": null,
   "id": "d64d8e8a",
   "metadata": {},
   "outputs": [],
   "source": [
    "# stores = pd.read_excel('/Users/lesliedeng/Desktop/毕设/code/finaldata/店铺地址与时间.xlsx')\n",
    "# orders_by_date = pd.read_csv('orders_by_date.csv')\n",
    "coverage = pd.read_csv('coverage202102-08_between_stores_3km.csv')\n",
    "coverage['time'] = pd.to_datetime(coverage['time'])\n",
    "coverage"
   ]
  },
  {
   "cell_type": "code",
   "execution_count": null,
   "id": "62d9afee",
   "metadata": {},
   "outputs": [],
   "source": [
    "final_data=pd.merge(orders_by_date, stores[['store_id', 'setup_time']], on='store_id', how='left')\n",
    "final_data['setup_time'] = pd.to_datetime(final_data['setup_time'])\n",
    "final_data['出货_month_number'] = pd.to_datetime(final_data['出货_month_number'])\n",
    "final_data['setup_time'] = final_data['setup_time'].dt.strftime('%Y-%m')\n",
    "final_data"
   ]
  },
  {
   "cell_type": "code",
   "execution_count": null,
   "id": "75e778ed",
   "metadata": {},
   "outputs": [],
   "source": [
    "final_data['setup_time'] = pd.to_datetime(final_data['setup_time'])\n",
    "for i in range(len(final_data['open'])):\n",
    "    if final_data.loc[i,'open'] == 1:\n",
    "        if final_data.loc[i,'出货_month_number'] < datetime.strptime('2021-08-20', '%Y-%m-%d'): #这个是截止日期\n",
    "            final_data.loc[i,'overlap01'] = final_data.loc[i,'出货_month_number']+pd.offsets.Day(30)\n",
    "    else:\n",
    "        final_data.loc[i,'overlap01'] = final_data.loc[i,'setup_time']-pd.offsets.Day(1)\n",
    "final_data"
   ]
  },
  {
   "cell_type": "code",
   "execution_count": null,
   "id": "e971dee5",
   "metadata": {},
   "outputs": [],
   "source": [
    "# final_data['overlap01'] = pd.to_datetime(final_data['overlap01'])"
   ]
  },
  {
   "cell_type": "code",
   "execution_count": null,
   "id": "50e9a445",
   "metadata": {},
   "outputs": [],
   "source": [
    "merged_df = pd.merge(final_data, coverage[['store1','time','coverage']], left_on=['store_id','overlap01'], right_on=['store1','time'],how='left')\n",
    "merged_df"
   ]
  },
  {
   "cell_type": "code",
   "execution_count": null,
   "id": "680d9d35",
   "metadata": {},
   "outputs": [],
   "source": [
    "merged_df.to_csv('稳健性_3km_tm_df_otc+nation.csv',index = False)"
   ]
  },
  {
   "cell_type": "code",
   "execution_count": null,
   "id": "95417f01",
   "metadata": {},
   "outputs": [],
   "source": []
  },
  {
   "cell_type": "code",
   "execution_count": null,
   "id": "d34556c7",
   "metadata": {},
   "outputs": [],
   "source": [
    "jd_tm = pd.read_csv('稳健性/稳健性_3km_jd_df_otc+nation.csv')"
   ]
  },
  {
   "cell_type": "code",
   "execution_count": null,
   "id": "e6b164c1",
   "metadata": {},
   "outputs": [],
   "source": [
    "jd_tm"
   ]
  },
  {
   "cell_type": "code",
   "execution_count": null,
   "id": "55c3c71b",
   "metadata": {},
   "outputs": [],
   "source": [
    "jd_tm_df = jd_tm.groupby(['store_id','出货_month_number','open','national cata','coverage']).agg({'amount': 'sum'})\n",
    "\n",
    "#,'tm_jd'\n",
    "\n",
    "jd_tm_df.reset_index()\n",
    "jd_tm_df.to_csv('稳健性_3km_jd_df_nation.csv')"
   ]
  },
  {
   "cell_type": "markdown",
   "id": "df9d2751",
   "metadata": {},
   "source": [
    "## 回归"
   ]
  },
  {
   "cell_type": "code",
   "execution_count": null,
   "id": "c2361f33",
   "metadata": {},
   "outputs": [],
   "source": [
    "import statsmodels.api as sm\n",
    "merged_df=pd.read_excel('reg_jdwithtmall.xlsx')"
   ]
  },
  {
   "cell_type": "code",
   "execution_count": null,
   "id": "4374cdfe",
   "metadata": {},
   "outputs": [],
   "source": [
    "merged_df['出货_month_number'] = pd.to_datetime(merged_df['出货_month_number'])\n",
    "merged_df['出货_month_number']=merged_df['出货_month_number'].dt.month\n",
    "merged_df"
   ]
  },
  {
   "cell_type": "code",
   "execution_count": null,
   "id": "7a66d4d7",
   "metadata": {},
   "outputs": [],
   "source": [
    "## FE-DUMMY\n",
    "merged_df = pd.get_dummies(merged_df, columns=['出货_month_number'])\n",
    "merged_df"
   ]
  },
  {
   "cell_type": "code",
   "execution_count": null,
   "id": "d57e875e",
   "metadata": {},
   "outputs": [],
   "source": [
    "merged_df['platform_open']=merged_df['tmall_jd']*merged_df['open']"
   ]
  },
  {
   "cell_type": "code",
   "execution_count": null,
   "id": "57ec0634",
   "metadata": {},
   "outputs": [],
   "source": [
    "merged_df"
   ]
  },
  {
   "cell_type": "code",
   "execution_count": null,
   "id": "19b8b29d",
   "metadata": {},
   "outputs": [],
   "source": [
    "merged_df.to_csv('regression_data202102-08_jdwithtmall.csv',index=False)"
   ]
  },
  {
   "cell_type": "code",
   "execution_count": null,
   "id": "6e0def8c",
   "metadata": {},
   "outputs": [],
   "source": [
    "merged_df=pd.read_csv('otc_tm_regression_df.csv')\n",
    "#regression_data202102-08_jdwithtmall.csv"
   ]
  },
  {
   "cell_type": "code",
   "execution_count": null,
   "id": "d8670438",
   "metadata": {
    "scrolled": true
   },
   "outputs": [],
   "source": [
    "# 准备数据\n",
    "merged_df['setup_time'] = pd.to_datetime(merged_df['setup_time'])\n",
    "\n",
    "X = merged_df[['open', 'coverage','出货_month_number_1','出货_month_number_2','出货_month_number_3','出货_month_number_4','出货_month_number_5','出货_month_number_6','出货_month_number_7','出货_month_number_8','otc0','otc1','otc2']]\n",
    "# 'tmall_jd' 'platform_open'\n",
    "\n",
    "y = merged_df['amount']\n",
    "\n",
    "# 添加常数列\n",
    "X = sm.add_constant(X)\n",
    "\n",
    "#X = np.asarray(X)\n",
    "#y = np.asarray(y)\n",
    "\n",
    "# 拟合线性回归模型\n",
    "model = sm.OLS(y, X).fit()\n",
    "\n",
    "# 输出系数表\n",
    "print(model.summary().tables[1])"
   ]
  },
  {
   "cell_type": "code",
   "execution_count": null,
   "id": "6e0bbde6",
   "metadata": {},
   "outputs": [],
   "source": [
    "print(model.summary().tables[0])"
   ]
  },
  {
   "cell_type": "code",
   "execution_count": null,
   "id": "d12b4821",
   "metadata": {
    "scrolled": false
   },
   "outputs": [],
   "source": [
    "import pandas as pd\n",
    "import numpy as np\n",
    "import statsmodels.api as sm\n",
    "from scipy import stats\n",
    "import matplotlib.pyplot as plt\n",
    "\n",
    "# 1. 数据的完整性和准确性检查\n",
    "# 检查是否存在缺失值\n",
    "print(merged_df.isnull().sum())\n",
    "\n",
    "# 检查是否存在异常值\n",
    "# 进行适当的数据清洗处理\n",
    "\n",
    "\n",
    "# 3. 多重共线性检验\n",
    "# 计算自变量之间的相关系数矩阵\n",
    "correlation_matrix = merged_df.corr()\n",
    "print(correlation_matrix)\n",
    "\n",
    "# 计算方差膨胀因子(VIF)\n",
    "vif = pd.DataFrame()\n",
    "vif[\"Variable\"] = X.columns\n",
    "vif[\"VIF\"] = [sm.OLS(X[col], X.drop(col, axis=1)).fit().rsquared for col in X.columns]\n",
    "print(vif)\n",
    "\n",
    "# 4. 正态性检验\n",
    "# 绘制因变量的直方图\n",
    "plt.hist(y, bins='auto')\n",
    "plt.show()\n",
    "\n",
    "# 绘制因变量的Q-Q图\n",
    "stats.probplot(y, dist=\"norm\", plot=plt)\n",
    "plt.show()\n",
    "\n",
    "# 进行正态性检验\n",
    "_, p_value = stats.shapiro(y)\n",
    "print(\"Shapiro-Wilk test p-value:\", p_value)\n",
    "\n",
    "# 绘制残差图\n",
    "residuals = model.resid\n",
    "plt.scatter(model.fittedvalues, residuals)\n",
    "plt.xlabel('Fitted Values')\n",
    "plt.ylabel('Residuals')\n",
    "plt.axhline(y=0, color='r', linestyle='--')\n",
    "plt.show()\n",
    "\n",
    "# 进行异方差性检验\n",
    "_, p_value, _, _ = sm.stats.diagnostic.het_white(residuals, sm.add_constant(X))\n",
    "print(\"White test p-value:\", p_value)\n",
    "\n",
    "# # 6. 自变量的函数形式检验\n",
    "# # 绘制自变量与因变量的散点图\n",
    "# plt.scatter(df['x1'], df['y'])\n",
    "# plt.xlabel('x1')\n",
    "# plt.ylabel('y')\n",
    "# plt.show()\n",
    "\n",
    "# # 绘制自变量与残差的部分回归图\n",
    "# part_corr = sm.graphics.plot_partregress('y', 'x1', ['x2', 'x3'], data=df, obs_labels=False)\n",
    "# part_corr.axes[0].set_xlabel('x1')\n",
    "# part_corr.axes[0].set_ylabel('y')\n",
    "# plt.show()"
   ]
  },
  {
   "cell_type": "code",
   "execution_count": null,
   "id": "9b40e1a6",
   "metadata": {},
   "outputs": [],
   "source": [
    "import statsmodels.regression.linear_model as smrlm\n",
    "\n",
    "# 假设你已经有了协方差矩阵 H\n",
    "gls_model = smrlm.GLS(y, X)\n",
    "gls_results = gls_model.fit()"
   ]
  },
  {
   "cell_type": "code",
   "execution_count": null,
   "id": "0968abdc",
   "metadata": {},
   "outputs": [],
   "source": [
    "gls_results.summary()"
   ]
  },
  {
   "cell_type": "code",
   "execution_count": null,
   "id": "55fa8d8e",
   "metadata": {},
   "outputs": [],
   "source": [
    "residuals = gls_results.resid  # 获取残差\n",
    "\n",
    "from scipy.stats import jarque_bera\n",
    "jb_stat, p_value = jarque_bera(residuals)\n",
    "print(jb_stat, p_value)\n",
    "\n",
    "\n",
    "# 绘制残差直方图\n",
    "plt.figure(figsize=(12, 6))\n",
    "plt.subplot(121)\n",
    "plt.hist(residuals, bins=20, edgecolor='black')\n",
    "plt.title('Residuals Histogram')\n",
    "plt.xlabel('Residuals')\n",
    "plt.ylabel('Frequency')\n",
    "\n",
    "# QQ图\n",
    "plt.subplot(122)\n",
    "stats.probplot(residuals, dist=\"norm\", plot=plt)\n",
    "plt.title('Residuals QQ Plot')\n",
    "plt.xlabel('Theoretical Quantiles')\n",
    "plt.ylabel('Standardized Residuals')\n",
    "plt.show()\n",
    "\n",
    "plt.tight_layout()\n",
    "plt.show()"
   ]
  },
  {
   "cell_type": "code",
   "execution_count": null,
   "id": "53fb3692",
   "metadata": {},
   "outputs": [],
   "source": []
  },
  {
   "cell_type": "markdown",
   "id": "dcf3143f",
   "metadata": {},
   "source": [
    "---"
   ]
  },
  {
   "cell_type": "code",
   "execution_count": null,
   "id": "96c5fcba",
   "metadata": {},
   "outputs": [],
   "source": [
    "# 计算店铺开设前的订单金额总和\n",
    "before_open_sum = merged_data.loc[merged_data['d_time'] < merged_data['time']].groupby(['sap'])['pay'].sum()\n",
    "\n",
    "# 计算店铺开设O2O后的电商订单金额总和\n",
    "after_open_sum = merged_data.loc[merged_data['d_time'] >= merged_data['time']].groupby(['sap'])['pay'].sum()\n",
    "\n",
    "### 日均【开始时间是第一笔订单出现】"
   ]
  },
  {
   "cell_type": "code",
   "execution_count": null,
   "id": "08770e27",
   "metadata": {},
   "outputs": [],
   "source": [
    "before_open_sum = pd.DataFrame(before_open_sum.reset_index())\n",
    "after_open_sum = pd.DataFrame(after_open_sum.reset_index())\n",
    "before_open_sum = before_open_sum.set_index('sap')\n",
    "after_open_sum = after_open_sum.set_index('sap')"
   ]
  },
  {
   "cell_type": "code",
   "execution_count": null,
   "id": "2b0fae8e",
   "metadata": {},
   "outputs": [],
   "source": [
    "for sap in before_open_sum.index:\n",
    "    # 在 merged_data 中筛选出 sap 等于当前索引标签的行\n",
    "    sap_data = merged_data.loc[merged_data['sap'] == sap].sort_values('d_time')\n",
    "    first_time = sap_data.iloc[0]['time']\n",
    "    first_order_time = sap_data.iloc[0]['d_time']\n",
    "    before_open_sum.loc[i,'duration'] = first_time-first_order_time\n",
    "    \n",
    "for sap in after_open_sum.index:\n",
    "    # 在 merged_data 中筛选出 sap 等于当前索引标签的行\n",
    "    sap_data = merged_data.loc[merged_data['sap'] == sap]\n",
    "    first_time = sap_data.iloc[0]['time']\n",
    "    after_open_sum.loc[i,'duration'] = first_time\n",
    "    \n",
    "before_open_sum['average']=before_open_sum['pay']/before_open_sum['duration']\n",
    "after_open_sum['average']=after_open_sum['pay']/after_open_sum['duration']"
   ]
  },
  {
   "cell_type": "markdown",
   "id": "5023c1a3",
   "metadata": {},
   "source": [
    "### 店铺时间距离 coverage 计算"
   ]
  },
  {
   "cell_type": "code",
   "execution_count": null,
   "id": "8652fbe4",
   "metadata": {},
   "outputs": [],
   "source": [
    "df = pd.read_excel('/Users/lesliedeng/Desktop/毕设/code/finaldata/店铺地址与时间202102-08.xlsx')\n",
    "\n",
    "# 获取店铺列表\n",
    "stores = df[['store_id', 'latitude', 'longitude','setup_time']]\n",
    "coverage = pd.DataFrame()\n",
    "print(stores)"
   ]
  },
  {
   "cell_type": "code",
   "execution_count": null,
   "id": "da9cd2b7",
   "metadata": {},
   "outputs": [],
   "source": [
    "coverage['time'] = pd.to_datetime(coverage['time'])"
   ]
  },
  {
   "cell_type": "code",
   "execution_count": null,
   "id": "342273d3",
   "metadata": {},
   "outputs": [],
   "source": [
    "store304 = coverage[coverage['store1'] == 'B117']\n",
    "print(store304)"
   ]
  },
  {
   "cell_type": "markdown",
   "id": "9b5ef48a",
   "metadata": {},
   "source": [
    "### 回归"
   ]
  },
  {
   "cell_type": "markdown",
   "id": "ccfbb021",
   "metadata": {},
   "source": [
    "$$\n",
    "Sales_{it} = \\beta_0 + \\beta_1 open_{it} + \\beta_2 open_{it} \\cdot overlap_{it}+ \\beta_3 platform + \\beta_4 type + \\beta_5 platform \\cdot open_{it} + \\beta_6 type \\cdot open_{it} + \\beta_7 platform \\cdot type \\cdot open_{it} +u_{it}\n",
    "$$\n",
    "$$\n",
    "i指店铺，t指时间\\\\\n",
    "一天t有四条数据，platform*type\\\\\n",
    "platform=1为天猫平台数据，=0为京东数据；type=1为急用药数据，=0为非急用药数据\\\\\n",
    "Sales_{it}指的是线下店铺i在t时半径5km范围内的电商平台销售额，\\\\\n",
    "open_{it}为01变量，指的是店铺i在t时是否开通O2O服务，cover_{it}为连续变量，指店铺i在t时是否存在多重覆盖\n",
    "$$\n"
   ]
  },
  {
   "cell_type": "code",
   "execution_count": null,
   "id": "ef4a2931",
   "metadata": {},
   "outputs": [],
   "source": []
  },
  {
   "attachments": {
    "image.png": {
     "image/png": "[encoded data removed]"
    }
   },
   "cell_type": "markdown",
   "id": "02cb25c2",
   "metadata": {},
   "source": [
    "![image.png](attachment:image.png)\n",
    "数据：【day】231*4*520【店铺数】=480480"
   ]
  },
  {
   "cell_type": "markdown",
   "id": "71792a92",
   "metadata": {},
   "source": [
    "### DID"
   ]
  },
  {
   "cell_type": "code",
   "execution_count": null,
   "id": "a742b2e2",
   "metadata": {},
   "outputs": [],
   "source": [
    "# 读取数据\n",
    "data = pd.read_csv('data.csv')\n",
    "\n",
    "# 创建虚拟变量\n",
    "data['treatment'] = 0\n",
    "data.loc[data['post'] == 1, 'treatment'] = 1\n",
    "\n",
    "# DID 模型\n",
    "model = sm.formula.ols('outcome ~ treatment*post', data=data).fit()\n",
    "\n",
    "# 输出结果\n",
    "print(model.summary())"
   ]
  },
  {
   "cell_type": "code",
   "execution_count": null,
   "id": "a27dcda1",
   "metadata": {},
   "outputs": [],
   "source": [
    "##平行趋势假设检验\n",
    "import pandas as pd\n",
    "import statsmodels.api as sm\n",
    "\n",
    "# 读取数据\n",
    "data = pd.read_csv('data.csv')\n",
    "\n",
    "# 进行趋势回归\n",
    "model = sm.formula.ols('outcome ~ treatment + time*treatment', data=data[data['time'] < 0]).fit()\n",
    "print(model.summary())"
   ]
  },
  {
   "cell_type": "markdown",
   "id": "a9bb4b2a",
   "metadata": {},
   "source": [
    "#### 代码测试"
   ]
  },
  {
   "cell_type": "code",
   "execution_count": null,
   "id": "b2835c49",
   "metadata": {},
   "outputs": [],
   "source": [
    "dt = [\n",
    "    [55, 'A', '2023-01-05', '2023-01-01'],\n",
    "    [22, 'B', '2023-01-06', '2023-01-02'],\n",
    "    [55, 'A', '2023-01-05', '2023-01-06'],\n",
    "    [22, 'B', '2023-01-06', '2023-01-07']\n",
    "]\n",
    "dt = pd.DataFrame(dt, columns=['订购金额', '店铺', '店铺开设时间', '订单时间'])"
   ]
  },
  {
   "cell_type": "code",
   "execution_count": null,
   "id": "1d85cbb6",
   "metadata": {},
   "outputs": [],
   "source": [
    "dt"
   ]
  },
  {
   "cell_type": "code",
   "execution_count": null,
   "id": "9b922de5",
   "metadata": {},
   "outputs": [],
   "source": [
    "test = dt.groupby(['店铺'])['订购金额'].sum()"
   ]
  },
  {
   "cell_type": "code",
   "execution_count": null,
   "id": "6954a876",
   "metadata": {},
   "outputs": [],
   "source": [
    "test = pd.DataFrame(test.reset_index())\n",
    "test = test.set_index('店铺')"
   ]
  },
  {
   "cell_type": "code",
   "execution_count": null,
   "id": "315043cb",
   "metadata": {},
   "outputs": [],
   "source": [
    "test['new']=test['订购金额']/test['订购金额']"
   ]
  },
  {
   "cell_type": "markdown",
   "id": "180988bc",
   "metadata": {},
   "source": [
    "---"
   ]
  },
  {
   "cell_type": "code",
   "execution_count": null,
   "id": "cd3b76b5",
   "metadata": {},
   "outputs": [],
   "source": [
    "### PART3 计量比较前后是否存在显著性降低\n",
    "##未知两组数据的总体方差\n",
    "# 计算t检验统计量和p值\n",
    "t_statistic, p_value = stats.ttest_ind(before_open_sum['average'], after_open_sum['average']) ##【还需要处理增速后】增速怎么处理【【【【【\n",
    "\n",
    "alpha = 0.05  # 显著性水平\n",
    "\n",
    "if p_value < alpha:\n",
    "    print(\"p值为\", p_value, \"，小于显著性水平\", alpha, \"，两组数据差异显著。\")\n",
    "else:\n",
    "    print(\"p值为\", p_value, \"，大于显著性水平\", alpha, \"，两组数据差异不显著。\")"
   ]
  },
  {
   "cell_type": "code",
   "execution_count": null,
   "id": "bddd33ba",
   "metadata": {},
   "outputs": [],
   "source": [
    "##############################PART1\n",
    "##文件处理\n",
    "\n",
    "\n",
    "import pandas as pd\n",
    "\n",
    "# 指定要合并的Excel文件路径\n",
    "excel_file = '/Users/lesliedeng/Desktop/毕设/rawdata/天猫2019-2022.10.25明细数据.xlsx'\n",
    "\n",
    "# 指定要合并的Sheet名称列表\n",
    "sheet_names = ['天猫2021.1-3', '天猫2021.4-6', '天猫2021.7-9']\n",
    "\n",
    "# 读取指定的Sheet并合并为一个DataFrame\n",
    "df = pd.concat(pd.read_excel(excel_file, sheet_name=sheet_names), ignore_index=True)\n",
    "\n",
    "# 删除退货单号\n",
    "df = df[~df['出货单号'].str.startswith('KTX')]\n"
   ]
  },
  {
   "cell_type": "code",
   "execution_count": null,
   "id": "5d8a148a",
   "metadata": {},
   "outputs": [],
   "source": [
    "import pandas as pd\n",
    "\n",
    "# 指定要合并的Excel文件路径\n",
    "excel_file = '/Users/lesliedeng/Desktop/毕设/rawdata/京东2019-2022.10.25明细数据_商品.xlsx'\n",
    "\n",
    "# 指定要合并的Sheet名称列表\n",
    "sheet_names = ['京东2021.1-3', '京东2021.4-6', '京东2021.7-9']\n",
    "\n",
    "# 读取指定的Sheet并合并为一个DataFrame\n",
    "df = pd.concat(pd.read_excel(excel_file, sheet_name=sheet_names), ignore_index=True)\n",
    "\n",
    "# 删除退货单号\n",
    "df = df[~df['出货单号'].str.startswith('KTX')]"
   ]
  },
  {
   "cell_type": "code",
   "execution_count": null,
   "id": "4f6b6697",
   "metadata": {},
   "outputs": [],
   "source": [
    "# 删除\"单位\"和\"规格\"列\n",
    "df = df.drop(['单位', '规格'], axis=1)\n",
    "\n",
    "# 重设索引\n",
    "df = df.reset_index(drop=True)"
   ]
  },
  {
   "cell_type": "code",
   "execution_count": null,
   "id": "766803c7",
   "metadata": {},
   "outputs": [],
   "source": [
    "# 将DataFrame保存为CSV文件\n",
    "df.to_csv('全国京东202101_09订单.csv', index=False)"
   ]
  },
  {
   "cell_type": "code",
   "execution_count": null,
   "id": "538a8586",
   "metadata": {},
   "outputs": [],
   "source": [
    "df=pd.read_csv('全国天猫202101_09订单.csv')\n",
    "#天猫字典\n",
    "\n",
    "unique_values = df[['商品名称','商品编号']].drop_duplicates()\n",
    "\n",
    "# 将DataFrame对象保存为Excel文件\n",
    "unique_values.to_excel('药品类字典_天猫_debug.xlsx', index=False)"
   ]
  },
  {
   "cell_type": "code",
   "execution_count": null,
   "id": "96681941",
   "metadata": {},
   "outputs": [],
   "source": [
    "#合并文件\n",
    "import os\n",
    "\n",
    "# 设置要合并的Excel文件的路径\n",
    "folder_path = \"/Users/lesliedeng/Desktop/毕设/code\"\n",
    "\n",
    "# 获取文件夹中所有Excel文件的文件名\n",
    "excel_files = [f for f in os.listdir(folder_path) if f.endswith('.xlsx') and f.startswith('昆明天猫')]\n",
    "\n",
    "# 创建一个空的DataFrame来存储所有数据\n",
    "combined_data = pd.DataFrame()\n",
    "\n",
    "# 循环遍历每个Excel文件并将其添加到combined_data\n",
    "for file in excel_files:\n",
    "    file_path = os.path.join(folder_path, file)\n",
    "    sheet_name = \"Sheet1\" # 设置要读取的工作表名称\n",
    "    data = pd.read_excel(file_path, sheet_name=sheet_name)\n",
    "    combined_data = combined_data.append(data, ignore_index=True)\n",
    "\n",
    "# 将合并后的数据保存为CSV文件\n",
    "combined_data.to_csv(\"昆明天猫合并.csv\", index=False)"
   ]
  },
  {
   "cell_type": "code",
   "execution_count": null,
   "id": "a6031f48",
   "metadata": {},
   "outputs": [],
   "source": [
    "testtest = pd.read_csv(\"全国天猫202101_09订单.csv\")"
   ]
  },
  {
   "cell_type": "code",
   "execution_count": null,
   "id": "f731d620",
   "metadata": {},
   "outputs": [],
   "source": [
    "testtest2 = pd.read_csv(\"昆明天猫合并.csv\")"
   ]
  },
  {
   "cell_type": "code",
   "execution_count": null,
   "id": "79754692",
   "metadata": {},
   "outputs": [],
   "source": [
    "# 统计某一列的数据\n",
    "column_name = \"数量\"\n",
    "column_data = testtest[column_name]\n",
    "column_count = column_data.count() # 统计非空值的数量\n",
    "column_mean = column_data.mean() # 计算平均值\n",
    "column_std = column_data.std() # 计算标准差\n",
    "column_min = column_data.min() # 计算最小值\n",
    "column_max = column_data.max() # 计算最大值\n",
    "\n",
    "# 打印统计结果\n",
    "print(\"Non-null count:\", column_count)\n",
    "print(\"Mean:\", column_mean)\n",
    "print(\"Standard deviation:\", column_std)\n",
    "print(\"Minimum value:\", column_min)\n",
    "print(\"Maximum value:\", column_max)"
   ]
  },
  {
   "cell_type": "code",
   "execution_count": null,
   "id": "1477d749",
   "metadata": {},
   "outputs": [],
   "source": [
    "rows_with_3700 = testtest[testtest['数量'] == -2400]\n",
    "print(rows_with_3700.head(10)) # 显示前10行"
   ]
  },
  {
   "cell_type": "code",
   "execution_count": null,
   "id": "ac6606cd",
   "metadata": {},
   "outputs": [],
   "source": [
    "# 将两个表格按照出货单号进行合并\n",
    "df_merged = pd.merge(testtest, testtest2, on='出货单号')\n",
    "\n",
    "# 输出合并后的结果\n",
    "print(df_merged)"
   ]
  },
  {
   "cell_type": "code",
   "execution_count": null,
   "id": "bfee6251",
   "metadata": {},
   "outputs": [],
   "source": []
  },
  {
   "cell_type": "code",
   "execution_count": null,
   "id": "c3efac68",
   "metadata": {},
   "outputs": [],
   "source": [
    "unique_values = df_merged['商品名称'].unique()\n",
    "\n",
    "# 将numpy数组转换为pandas DataFrame对象\n",
    "df = pd.DataFrame(unique_values)\n",
    "\n",
    "# 将DataFrame对象保存为Excel文件\n",
    "df.to_excel('药品类字典.xlsx', index=False)"
   ]
  },
  {
   "cell_type": "code",
   "execution_count": null,
   "id": "98b7c417",
   "metadata": {},
   "outputs": [],
   "source": [
    "unique_values"
   ]
  },
  {
   "cell_type": "markdown",
   "id": "8b1e4804",
   "metadata": {},
   "source": [
    "---\n",
    "# 京东\n",
    "---"
   ]
  },
  {
   "cell_type": "markdown",
   "id": "074abc59",
   "metadata": {},
   "source": [
    "## 数据处理与切分"
   ]
  },
  {
   "cell_type": "code",
   "execution_count": null,
   "id": "d51ef682",
   "metadata": {},
   "outputs": [],
   "source": [
    "# 打开Excel文件\n",
    "wb = openpyxl.load_workbook('/Users/lesliedeng/Desktop/毕设/code/finaldata/jd_delivery_use_not2021_1.xlsx') \n",
    "\n",
    "# 选择Sheet表\n",
    "sheet = wb['Sheet1'] \n",
    "\n",
    "column1 = sheet['j'] # 提取创建收货地址数据\n",
    "column2 = sheet['s'] # 提取金额列数据\n",
    "column3= sheet['b'] # 提取时间列\n",
    "column4= sheet['a'] # 提取出货单号\n",
    "\n",
    "\n",
    "# 创建空列表\n",
    "jd_delivery = []\n",
    "jd_pay = []\n",
    "jd_time = []\n",
    "jd_id = []\n",
    "\n",
    "# 迭代column对象,将单元格数据添加到列表中\n",
    "for cell in column1[1:]:\n",
    "    jd_delivery.append(cell.value)\n",
    "for cell in column2[1:]:\n",
    "    jd_pay.append(cell.value)\n",
    "for cell in column3[1:]:\n",
    "    jd_time.append(cell.value)\n",
    "for cell in column4[1:]:\n",
    "    jd_id.append(cell.value)"
   ]
  },
  {
   "cell_type": "code",
   "execution_count": null,
   "id": "67ad7001",
   "metadata": {},
   "outputs": [],
   "source": [
    "jd_deliverycode = pd.DataFrame()\n",
    "\n",
    "# 循环遍历经纬度数据，并将它们添加到 DataFrame 中\n",
    "for i in range(len(jd_delivery)):\n",
    "    jd_deliverycode.loc[i, 'jd_delivery'] = jd_delivery[i]\n",
    "    jd_deliverycode.loc[i, 'jd_pay'] = jd_pay[i]\n",
    "    jd_deliverycode.loc[i, 'jd_time'] = jd_time[i]\n",
    "    jd_deliverycode.loc[i, 'jd_id'] = jd_id[i]"
   ]
  },
  {
   "cell_type": "code",
   "execution_count": null,
   "id": "4b906160",
   "metadata": {},
   "outputs": [],
   "source": [
    "jd_deliverycode.to_excel('jd_deliverycode.xlsx', index=False)"
   ]
  },
  {
   "cell_type": "code",
   "execution_count": null,
   "id": "86308e2d",
   "metadata": {},
   "outputs": [],
   "source": [
    "# 加载 Excel 文件\n",
    "workbook = load_workbook(filename='jd_deliverycode.xlsx')\n",
    "\n",
    "# 获取工作表\n",
    "worksheet = workbook.active\n",
    "\n",
    "# 遍历单元格\n",
    "for row in worksheet.iter_rows():\n",
    "    cell = row[0]  #注意列\n",
    "    if cell.value:\n",
    "        # 删除指定字符串内容\n",
    "        cell.value = cell.value.replace('云南省昆明市宜良县云南', ' ').replace('', '')\n",
    "        cell.value = cell.value.replace('云南省昆明市寻甸回族彝族自治县云南', ' ').replace('', '')\n",
    "        cell.value = cell.value.replace('云南省昆明市西山区云南', ' ').replace('', '')\n",
    "        cell.value = cell.value.replace('云南省昆明市五华区云南', ' ').replace('', '')\n",
    "        cell.value = cell.value.replace('云南省昆明市嵩明县云南', ' ').replace('', '')\n",
    "        cell.value = cell.value.replace('云南省昆明市石林彝族自治县云南', ' ').replace('', '')\n",
    "        cell.value = cell.value.replace('云南省昆明市盘龙区云南', ' ').replace('', '')\n",
    "        cell.value = cell.value.replace('云南省昆明市禄劝彝族苗族自治县云南', ' ').replace('', '')\n",
    "        cell.value = cell.value.replace('云南省昆明市晋宁区云南', ' ').replace('', '')\n",
    "        cell.value = cell.value.replace('云南省昆明市官渡区云南', ' ').replace('', '')\n",
    "        cell.value = cell.value.replace('云南省昆明市富民县云南', ' ').replace('', '')\n",
    "        cell.value = cell.value.replace('云南省昆明市东川区云南', ' ').replace('', '')\n",
    "        cell.value = cell.value.replace('云南省昆明市呈贡区云南', ' ').replace('', '')\n",
    "        cell.value = cell.value.replace('云南省昆明市安宁市云南', ' ').replace('', '')\n",
    "        cell.value = cell.value.replace('云南省昆明市西山区云南昆明市西山区滇池度假区', ' ').replace('', '')\n",
    "        cell.value = cell.value.replace('云南省昆明市禄劝彝族苗族自治县云南昆明市', ' ').replace('', '')\n",
    "        cell.value = cell.value.replace('省', ' ').replace('', '')\n",
    "        cell.value = re.sub(r'，.*', '', cell.value)\n",
    "    match = re.search(r'[\\u4e00-\\u9fa5]*（[^（）]*）', cell.value)\n",
    "    if match:\n",
    "        # 删除括号和括号中的字符\n",
    "        cell.value = re.sub(r'（[^（）]*）', '', cell.value)\n",
    "\n",
    "# 保存 Excel 文件\n",
    "workbook.save(filename='jd_deliverycode_use.xlsx')\n",
    "workbook.close()"
   ]
  },
  {
   "cell_type": "code",
   "execution_count": null,
   "id": "92b1df74",
   "metadata": {},
   "outputs": [],
   "source": [
    "## 读取销售数据文件\n",
    "import openpyxl\n",
    "\n",
    "# 打开Excel文件\n",
    "wb = openpyxl.load_workbook('/Users/lesliedeng/Desktop/毕设/code/finaldata/jd_delivery_use_4.xlsx') ###注意更换\n",
    "\n",
    "# 选择Sheet表\n",
    "worksheet = wb['Sheet1'] \n",
    "\n",
    "worksheet['E1'] = 'longitude'\n",
    "worksheet['F1'] = 'latitude'\n",
    "worksheet['G1'] = 'comprehension'\n",
    "worksheet['H1'] = 'confidence'"
   ]
  },
  {
   "cell_type": "code",
   "execution_count": null,
   "id": "8ac01fad",
   "metadata": {
    "scrolled": true
   },
   "outputs": [],
   "source": [
    "pd.DataFrame(worksheet.values)"
   ]
  },
  {
   "cell_type": "code",
   "execution_count": null,
   "id": "079c23ce",
   "metadata": {},
   "outputs": [],
   "source": [
    "worksheet.max_column"
   ]
  },
  {
   "cell_type": "code",
   "execution_count": null,
   "id": "cdd58f68",
   "metadata": {},
   "outputs": [],
   "source": [
    "# 获取要删除的列的范围\n",
    "start_column = 7\n",
    "end_column = worksheet.max_column\n",
    "\n",
    "# 删除指定范围的列\n",
    "for column in range(start_column, end_column + 1): #range左闭右开\n",
    "    worksheet.delete_cols(column)"
   ]
  },
  {
   "cell_type": "code",
   "execution_count": null,
   "id": "10512f00",
   "metadata": {},
   "outputs": [],
   "source": [
    "# 百度地图API密钥\n",
    "ak = 'AOAM2zC7CBsq2dGpdSMjtCtuGWn2F0rd'\n",
    "#'eWMineUOS3dzbfOCHBqtclfn81hnyqZ7' 已用180\n",
    "#'Kadu7cjY7eFAofC5zi5EOaYWR9GDv8LC'\n",
    "\n",
    "for row in range(194, worksheet.max_row + 1):\n",
    "    delivery_place = worksheet.cell(row=row, column=1).value\n",
    "    \n",
    "    # 构建请求URL\n",
    "    url = f'https://api.map.baidu.com/geocoding/v3/?address={delivery_place}&output=json&ak={ak}'\n",
    "\n",
    "    # 发送请求并获取响应\n",
    "    response = requests.get(url)\n",
    "    data = response.json()\n",
    "\n",
    "    # 从响应中提取经纬度\n",
    "    location = data['result']['location']\n",
    "    worksheet.cell(row=row, column=5).value = location['lng']     # 经度\n",
    "    worksheet.cell(row=row, column=6).value = location['lat']     # 纬度\n",
    "    worksheet.cell(row=row, column=7).value = data['result']['comprehension'] #理解度\n",
    "    worksheet.cell(row=row, column=8).value = data['result']['confidence'] #绝对精度 https://lbsyun.baidu.com/index.php?title=webapi/guide/webservice-geocoding\n",
    "\n",
    "# 保存 Excel 文件\n",
    "df = pd.DataFrame(worksheet.values)\n",
    "df.to_excel('deliverycode_jd_not2021_1.xlsx', index=False) ##记得改名字"
   ]
  },
  {
   "cell_type": "code",
   "execution_count": null,
   "id": "e325a22f",
   "metadata": {},
   "outputs": [],
   "source": [
    "delivery_place"
   ]
  },
  {
   "cell_type": "code",
   "execution_count": null,
   "id": "98bc1487",
   "metadata": {},
   "outputs": [],
   "source": [
    "jd_df1 = pd.read_excel('/Users/lesliedeng/Desktop/毕设/code/finaldata/deliverycode_jd_1.xlsx', usecols=['longitude', 'latitude', 'comprehension','confidence','jd_time','jd_pay'])\n",
    "jd_df2 = pd.read_excel('/Users/lesliedeng/Desktop/毕设/code/finaldata/deliverycode_jd_2.xlsx', usecols=['longitude', 'latitude', 'comprehension','confidence','jd_time','jd_pay'])\n",
    "\n",
    "jd_merged_df = pd.concat([jd_df1, jd_df2],ignore_index=True)\n",
    "print(jd_merged_df)"
   ]
  },
  {
   "cell_type": "code",
   "execution_count": null,
   "id": "53d1bdc3",
   "metadata": {},
   "outputs": [],
   "source": [
    "# 读取店铺经纬度数据\n",
    "stores = pd.read_excel('/Users/lesliedeng/Desktop/毕设/code/finaldata/店铺地址与时间2021.xlsx')\n",
    "\n",
    "# 读取订单经纬度数据\n",
    "jd_orders = jd_merged_df\n",
    "\n",
    "# 构建 KD 树\n",
    "tree = cKDTree(stores[['latitude', 'longitude']].values)\n",
    "\n",
    "# 查找每个订单最近的店铺距离和索引，最近的一个：k=1\n",
    "distances, indices = tree.query(jd_orders[['latitude', 'longitude']].values, k=1)\n",
    "\n",
    "# 将距离小于等于5公里的订单归类为相应的店铺\n",
    "jd_orders['store_id'] = np.nan\n",
    "jd_orders.loc[distances <= 5, 'store_id'] = stores.loc[indices[distances <= 5], 'store_id'].values\n",
    "jd_orders.to_csv('orders_jd_all_with_store.csv',index = False)"
   ]
  },
  {
   "cell_type": "code",
   "execution_count": null,
   "id": "0aafbeb0",
   "metadata": {},
   "outputs": [],
   "source": [
    "jd_merged_data = pd.merge(jd_orders, stores[['store_id', 'setup_time']], on='store_id', how='left')\n",
    "print(jd_merged_data)"
   ]
  },
  {
   "cell_type": "code",
   "execution_count": null,
   "id": "005249e6",
   "metadata": {},
   "outputs": [],
   "source": [
    "jd_merged_data['jd_time'] = pd.to_datetime(jd_merged_data['jd_time'])\n",
    "jd_merged_data['setup_time'] = pd.to_datetime(jd_merged_data['setup_time'])\n",
    "jd_merged_data['出货_week_number'] = jd_merged_data['jd_time'].dt.isocalendar().week\n",
    "jd_merged_data['setup_time_week_number'] = jd_merged_data['setup_time'].dt.isocalendar().week\n",
    "print(jd_merged_data)\n",
    "jd_merged_data.to_csv('orders_jd_week_number.csv',index = False)"
   ]
  },
  {
   "cell_type": "code",
   "execution_count": null,
   "id": "5ee83492",
   "metadata": {},
   "outputs": [],
   "source": [
    "jd_orders_by_date = jd_merged_data.groupby(['store_id','出货_week_number']).agg({'jd_pay': 'sum'})\n",
    "jd_orders_by_date = jd_orders_by_date.reset_index()\n",
    "jd_orders_by_date.to_csv('orders_by_week.csv', index=False)\n",
    "print(jd_orders_by_date)"
   ]
  },
  {
   "cell_type": "markdown",
   "id": "5314edc1",
   "metadata": {},
   "source": [
    "## 平台和药品敏感性"
   ]
  },
  {
   "cell_type": "code",
   "execution_count": null,
   "id": "691a09b4",
   "metadata": {},
   "outputs": [],
   "source": [
    "regtest = pd.read_excel('回归测试二三模型raw.xlsx')\n",
    "regtest"
   ]
  },
  {
   "cell_type": "code",
   "execution_count": null,
   "id": "69601e9b",
   "metadata": {},
   "outputs": [],
   "source": [
    "# 准备数据\n",
    "\n",
    "X = regtest[['OPEN', 'overlap','出货_month_number_1','出货_month_number_2','出货_month_number_3','出货_month_number_4','出货_month_number_5','出货_month_number_6','出货_month_number_7','出货_month_number_8']]\n",
    "y = regtest['sales']\n",
    "\n",
    "# 添加常数列\n",
    "X = sm.add_constant(X)\n",
    "\n",
    "# 拟合线性回归模型\n",
    "model = sm.OLS(y, X).fit()\n",
    "\n",
    "# 输出系数表\n",
    "print(model.summary().tables[1])"
   ]
  },
  {
   "cell_type": "markdown",
   "id": "99291203",
   "metadata": {},
   "source": [
    "$$\n",
    "\\text{成绩}{it} = \\alpha + \\beta_1 \\text{政策后}{it} + \\beta_2 \\text{处理组}{i} + \\gamma_t + \\epsilon{it}\n",
    "$$"
   ]
  },
  {
   "cell_type": "markdown",
   "id": "f11e20b6",
   "metadata": {},
   "source": [
    "## 品类敏感性"
   ]
  },
  {
   "cell_type": "code",
   "execution_count": null,
   "id": "a07c633d",
   "metadata": {},
   "outputs": [],
   "source": [
    "import pandas as pd\n",
    "import glob\n",
    "\n",
    "# 获取所有xlsx文件的文件路径\n",
    "file_paths = glob.glob('/Users/lesliedeng/Desktop/毕设/code/地址/*.xlsx')  # 将'path/to/files/'替换为包含xlsx文件的文件夹路径\n",
    "\n",
    "# 创建一个空的DataFrame来存储合并后的数据\n",
    "merged_data = pd.DataFrame()\n",
    "\n",
    "# 循环遍历文件路径\n",
    "for file_path in file_paths:\n",
    "    # 读取Excel文件内容\n",
    "    df = pd.read_excel(file_path)\n",
    "    \n",
    "    # 将读取的数据添加到合并后的DataFrame中\n",
    "    merged_data = merged_data.append(df, ignore_index=True)\n",
    "\n",
    "# 将合并后的数据保存到新的Excel文件中\n",
    "merged_data.to_excel('/Users/lesliedeng/Desktop/毕设/code/地址/tm_raw地址_merged.xlsx', index=False)  # 将'path/to/merged_file.xlsx'替换为合并后的文件路径"
   ]
  },
  {
   "cell_type": "code",
   "execution_count": null,
   "id": "40595eda",
   "metadata": {},
   "outputs": [],
   "source": [
    "tmall_delivery_all = pd.read_csv('/Users/lesliedeng/Desktop/毕设/code/地址/tmall_delivery_all.csv') "
   ]
  },
  {
   "cell_type": "code",
   "execution_count": null,
   "id": "0b5fd077",
   "metadata": {},
   "outputs": [],
   "source": [
    "tmall_delivery_all['出货日期'] = pd.to_datetime(tmall_delivery_all['出货日期'])\n",
    "merged_data['出货日期'] = pd.to_datetime(merged_data['出货日期'])"
   ]
  },
  {
   "cell_type": "code",
   "execution_count": null,
   "id": "f8a17936",
   "metadata": {
    "scrolled": true
   },
   "outputs": [],
   "source": [
    "# 进行匹配操作\n",
    "merged_df = pd.merge(merged_data, tmall_delivery_all, on=['出货日期', '订购金额'], how='outer')"
   ]
  },
  {
   "cell_type": "code",
   "execution_count": null,
   "id": "29f12d24",
   "metadata": {},
   "outputs": [],
   "source": [
    "# merged_df.to_csv(\"带文本的经纬与金额.csv\")"
   ]
  },
  {
   "cell_type": "code",
   "execution_count": null,
   "id": "b5d0a730",
   "metadata": {},
   "outputs": [],
   "source": [
    "tm_df = pd.read_excel('tm带文本的经纬与金额.xlsx')"
   ]
  },
  {
   "cell_type": "code",
   "execution_count": null,
   "id": "0056c167",
   "metadata": {},
   "outputs": [],
   "source": [
    "#天猫字典\n",
    "\n",
    "unique_values = df_merged['商品名称'].unique()\n",
    "\n",
    "# 将numpy数组转换为pandas DataFrame对象\n",
    "df = pd.DataFrame(unique_values)\n",
    "\n",
    "# 将DataFrame对象保存为Excel文件\n",
    "df.to_excel('药品类字典.xlsx', index=False)"
   ]
  },
  {
   "cell_type": "code",
   "execution_count": null,
   "id": "a3996793",
   "metadata": {},
   "outputs": [],
   "source": [
    "##生成数据集\n",
    "df_tm_pre = pd.read_csv(\"全国天猫202101_09订单.csv\")\n",
    "df_drug = pd.read_csv(\"/Users/lesliedeng/Desktop/毕设/code/药品分类/药品分类.csv\")\n",
    "df_drug_no = pd.read_csv(\"/Users/lesliedeng/Desktop/毕设/code/药品分类/matched_drug_tm.csv\")"
   ]
  },
  {
   "cell_type": "code",
   "execution_count": null,
   "id": "36cad3d4",
   "metadata": {},
   "outputs": [],
   "source": [
    "df_merged = pd.merge(df_drug, df_drug_no[[\"Matched Drug\", \"number\"]], left_on=\"name\", right_on=\"Matched Drug\", how=\"left\")\n",
    "df_merged = df_merged.drop_duplicates()\n",
    "df_merged"
   ]
  },
  {
   "cell_type": "code",
   "execution_count": null,
   "id": "fe8a1535",
   "metadata": {},
   "outputs": [],
   "source": [
    "#nan_rows = df_merged[df_merged[\"Matched Drug\"].isna()]\n",
    "#print(nan_rows)"
   ]
  },
  {
   "cell_type": "code",
   "execution_count": null,
   "id": "bc62e754",
   "metadata": {
    "scrolled": true
   },
   "outputs": [],
   "source": [
    "df_merged2 = pd.merge(df_tm_pre, df_merged[[\"number\", \"name\",\"otc0\",\"otc1\",\"otc2\",\"cata\",\"standard\"]], left_on=\"商品编号\", right_on=\"number\", how=\"left\")\n",
    "df_merged2"
   ]
  },
  {
   "cell_type": "code",
   "execution_count": null,
   "id": "a4cb4a0d",
   "metadata": {},
   "outputs": [],
   "source": [
    "location = pd.read_excel(\"/Users/lesliedeng/Desktop/毕设/code/回归/orders_tmall带文本的经纬与金额_24266.xlsx\")\n",
    "location"
   ]
  },
  {
   "cell_type": "code",
   "execution_count": null,
   "id": "2a6947f9",
   "metadata": {
    "scrolled": true
   },
   "outputs": [],
   "source": [
    "df_merged3 = pd.merge(df_merged2, location[['出货单号', 'longitude', 'latitude', 'comprehension', 'confidence']], on='出货单号',how='left')\n",
    "df_merged3"
   ]
  },
  {
   "cell_type": "code",
   "execution_count": null,
   "id": "58aa1c31",
   "metadata": {
    "scrolled": true
   },
   "outputs": [],
   "source": [
    "### 通过这种方式删除不是昆明的订单，因为明细数据里面没有地理位置，只有配送的表中有地理位置\n",
    "df_merged3 = df_merged3.dropna(subset=['longitude'])\n",
    "df_merged3"
   ]
  },
  {
   "cell_type": "code",
   "execution_count": null,
   "id": "6b9c204a",
   "metadata": {},
   "outputs": [],
   "source": [
    "df_merged3.to_csv('all_df_cata_tm.csv', index=False)\n",
    "\n",
    "# 索引筛选出name列中number为NaN的行\n",
    "nan_name_rows = df_merged3[df_merged3['number'].isna()]\n",
    "nan_name_rows.to_csv('tm_all_df_cata_notmedicine.csv', index=False)\n",
    "\n",
    "name_rows = df_merged3[df_merged3['number'].notna()]\n",
    "name_rows.to_csv('tm_all_df_cata_medicine.csv', index=False)"
   ]
  },
  {
   "cell_type": "code",
   "execution_count": null,
   "id": "6a71bd42",
   "metadata": {},
   "outputs": [],
   "source": [
    "df_sheet2 = pd.read_excel('/Users/lesliedeng/Desktop/毕设/code/药品分类回归及数据处理.xlsx', sheet_name='Sheet2')\n",
    "\n",
    "df_sheet4 = pd.read_excel('/Users/lesliedeng/Desktop/毕设/code/药品分类回归及数据处理.xlsx', sheet_name='Sheet4')\n",
    "\n",
    "# 提取关键词列表\n",
    "keywords = df_sheet4[\"type\"].tolist()\n",
    "\n",
    "# 定义一个函数，用于从字符串中提取关键词\n",
    "def extract_keywords(text):\n",
    "    extracted_keywords = []\n",
    "    for keyword in keywords:\n",
    "        if keyword in text:\n",
    "            extracted_keywords.append(keyword)\n",
    "    return extracted_keywords\n",
    "\n",
    "# 在文件1中的字符数据中提取关键词并保存在新列中\n",
    "df_sheet2['Extracted Keywords'] = df_sheet2['cata'].apply(extract_keywords)"
   ]
  },
  {
   "cell_type": "code",
   "execution_count": null,
   "id": "198a3725",
   "metadata": {},
   "outputs": [],
   "source": [
    "df_sheet2.to_csv('国家医保版药品分类.csv', index=False)"
   ]
  },
  {
   "cell_type": "code",
   "execution_count": null,
   "id": "791058bf",
   "metadata": {},
   "outputs": [],
   "source": [
    "df_sheet1 = pd.read_csv('/Users/lesliedeng/Desktop/毕设/code/tm_all_df_cata_medicine.csv')\n",
    "nationcata = pd.read_csv('国家医保版药品分类.csv')"
   ]
  },
  {
   "cell_type": "code",
   "execution_count": null,
   "id": "4dc57d26",
   "metadata": {},
   "outputs": [],
   "source": [
    "df_merged_nation = pd.merge(df_sheet1, nationcata[['name', 'national cata']], on='name', how='left')\n",
    "\n",
    "df_merged_nation = df_merged_nation.drop(['商品名称', '备注', 'cata', 'standard'], axis=1)\n",
    "df_merged_nation"
   ]
  },
  {
   "cell_type": "code",
   "execution_count": null,
   "id": "8dde043e",
   "metadata": {},
   "outputs": [],
   "source": [
    "df_merged_nation['amount']=df_merged_nation['单价']*df_merged_nation['数量']"
   ]
  },
  {
   "cell_type": "code",
   "execution_count": null,
   "id": "81565927",
   "metadata": {},
   "outputs": [],
   "source": [
    "df_merged_nation.to_excel('tm_昆明销售按类别带地理.xlsx', index=False)"
   ]
  },
  {
   "cell_type": "markdown",
   "id": "7c094233",
   "metadata": {},
   "source": [
    "# 药品名称提取 分类清洗"
   ]
  },
  {
   "cell_type": "code",
   "execution_count": null,
   "id": "4f0d871e",
   "metadata": {},
   "outputs": [],
   "source": []
  },
  {
   "cell_type": "code",
   "execution_count": null,
   "id": "05723bb1",
   "metadata": {},
   "outputs": [],
   "source": [
    "import pandas as pd\n",
    "import csv\n",
    "\n",
    "# 读取 Excel 文件\n",
    "excel_file = pd.ExcelFile('/Users/lesliedeng/Desktop/毕设/rawdata/京东2019-2022.10.25明细数据.xlsx') #注意区分天猫和京东\n",
    "\n",
    "# 遍历每个表格\n",
    "all_unique_values = set()  # 用于保存所有非重复值的集合\n",
    "\n",
    "for sheet_name in excel_file.sheet_names:\n",
    "    # 读取每个表格\n",
    "    df = excel_file.parse(sheet_name)\n",
    "    \n",
    "    # 提取某一列数据\n",
    "    column_data = df['商品名称']\n",
    "    \n",
    "    # 去除重复值，并添加到集合中\n",
    "    unique_values = set(column_data.drop_duplicates())\n",
    "    all_unique_values.update(unique_values)"
   ]
  },
  {
   "cell_type": "code",
   "execution_count": null,
   "id": "ca1a1942",
   "metadata": {},
   "outputs": [],
   "source": [
    "len(all_unique_values)"
   ]
  },
  {
   "cell_type": "code",
   "execution_count": null,
   "id": "29582dd1",
   "metadata": {},
   "outputs": [],
   "source": [
    "# 将非重复值保存到 CSV 文件\n",
    "with open('未清洗_京东唯一药品名.csv', 'w', newline='') as csvfile: #注意区分天猫和京东\n",
    "    writer = csv.writer(csvfile)\n",
    "    writer.writerow(['未清洗名'])  # 写入表头\n",
    "    \n",
    "    for value in all_unique_values:\n",
    "        writer.writerow([value])"
   ]
  },
  {
   "cell_type": "code",
   "execution_count": null,
   "id": "73f5f712",
   "metadata": {
    "scrolled": true
   },
   "outputs": [],
   "source": [
    "import csv\n",
    "import requests\n",
    "\n",
    "def translate_text(text, source_lang, target_lang, api_key):\n",
    "    url = 'https://fanyi-api.baidu.com/api/trans/vip/translate'\n",
    "    params = {\n",
    "        'q': text,\n",
    "        'from': source_lang,\n",
    "        'to': target_lang,\n",
    "        'appid': api_key,\n",
    "        'salt': '123456',  # 随机数\n",
    "    }\n",
    "    response = requests.get(url, params=params)\n",
    "    result = response.json()\n",
    "    translated_text = result['trans_result'][0]['dst']\n",
    "    return translated_text\n",
    "\n",
    "\n",
    "        \n",
    "# 设置API密钥和语言参数\n",
    "api_key = '20211222001035177'\n",
    "source_lang = 'auto'  # 自动检测源语言\n",
    "target_lang = 'en'  # 目标语言，此处为英语"
   ]
  },
  {
   "cell_type": "code",
   "execution_count": null,
   "id": "9d4e84d6",
   "metadata": {},
   "outputs": [],
   "source": [
    "import csv\n",
    "import requests\n",
    "import json\n",
    "import random\n",
    "import hashlib\n",
    "\n",
    "# 百度翻译API的URL\n",
    "BAIDU_TRANSLATE_API_URL = 'http://api.fanyi.baidu.com/api/trans/vip/translate'\n",
    "\n",
    "# 你的APP ID和密钥\n",
    "APP_ID = '20211222001035177'\n",
    "SECRET_KEY = '_e3LvzNY3M1LFxGFLYV6'\n",
    "\n",
    "def translate_baidu(text, from_lang='auto', to_lang='en'):\n",
    "    salt = random.randint(32768, 65536)\n",
    "    sign = APP_ID + text + str(salt) + SECRET_KEY\n",
    "    sign = hashlib.md5(sign.encode()).hexdigest()\n",
    "\n",
    "    params = {\n",
    "        'q': text,\n",
    "        'from': from_lang,\n",
    "        'to': to_lang,\n",
    "        'appid': APP_ID,\n",
    "        'salt': salt,\n",
    "        'sign': sign,\n",
    "    }\n",
    "\n",
    "    response = requests.post(BAIDU_TRANSLATE_API_URL, data=params)\n",
    "    result = json.loads(response.text)\n",
    "    \n",
    "    if 'trans_result' in result and len(result['trans_result']) > 0:\n",
    "        return result['trans_result'][0]['dst']\n",
    "    else:\n",
    "        raise Exception('Translation failed.')\n",
    "        \n",
    "\n",
    "def translate_csv(input_file, output_file):\n",
    "    with open(input_file, 'r', encoding='utf-8') as csv_file:\n",
    "        reader = csv.reader(csv_file)\n",
    "        rows = list(reader)\n",
    "        header = rows[0]\n",
    "        header.append('Translated Text')\n",
    "\n",
    "        translated_rows = []\n",
    "        translated_rows.append(header)\n",
    "\n",
    "        for row in rows[1:]:\n",
    "            text = row[0]\n",
    "            translated_text = translate_baidu(text)\n",
    "            row.append(translated_text)\n",
    "            translated_rows.append(row)\n",
    "\n",
    "    with open(output_file, 'w', encoding='utf-8', newline='') as output_csv:\n",
    "        writer = csv.writer(output_csv)\n",
    "        writer.writerows(translated_rows)"
   ]
  },
  {
   "cell_type": "code",
   "execution_count": null,
   "id": "f15f14ff",
   "metadata": {},
   "outputs": [],
   "source": [
    "# 调用函数进行翻译\n",
    "translate_csv('药物分类爬虫补充列表.csv', 'translate_2.csv')"
   ]
  },
  {
   "cell_type": "code",
   "execution_count": null,
   "id": "99543024",
   "metadata": {},
   "outputs": [],
   "source": [
    "pattern = r'\\b(' + '|'.join(map(re.escape, drug_list['Drug'].tolist())) + r')\\b'\n",
    "matchdf['Matched Drug'] = matchdf['Text'].str.extract(pattern, flags=re.IGNORECASE)"
   ]
  },
  {
   "cell_type": "code",
   "execution_count": null,
   "id": "65ff9de0",
   "metadata": {},
   "outputs": [],
   "source": [
    "# 读取翻译的文件\n",
    "atc_cata = pd.read_csv('药物分类爬虫补充列表.csv')"
   ]
  },
  {
   "cell_type": "code",
   "execution_count": null,
   "id": "dc79bee8",
   "metadata": {},
   "outputs": [],
   "source": [
    "import requests\n",
    "import json\n",
    "\n",
    "def query_plain(text, url=\"http://bern2.korea.ac.kr/plain\"):\n",
    "    return requests.post(url, json={'text': text}).json()\n",
    "\n",
    "for text in atc_cata['eng'][1:5]:\n",
    "    data = json.loads(query_plain(text))\n",
    "    atc_cata['atc_cata'] = data['annotations']['mention']\n",
    "    atc_cata['atc_obj'] = data['annotations']['obj']\n",
    "    atc_cata['atc_prob'] = data['annotations']['prob']\n",
    "\n",
    "atc_cata"
   ]
  },
  {
   "cell_type": "code",
   "execution_count": null,
   "id": "c3cb3fde",
   "metadata": {},
   "outputs": [],
   "source": [
    "query_plain(text)"
   ]
  },
  {
   "cell_type": "markdown",
   "id": "91b23736",
   "metadata": {},
   "source": [
    "## 数据匹配"
   ]
  },
  {
   "cell_type": "code",
   "execution_count": null,
   "id": "b5d0208a",
   "metadata": {},
   "outputs": [],
   "source": [
    "# 读取CSV文件\n",
    "with open('药品类字典_天猫.csv', 'r', encoding='utf-8') as file:\n",
    "    reader = csv.reader(file)\n",
    "    rows = list(reader)\n",
    "\n",
    "# 处理行数据\n",
    "for i in range(1,len(rows)):\n",
    "    match = re.search(r'[\\u4e00-\\u9fff]', rows[i][0])  # 查找第一个中文字符\n",
    "    if match:\n",
    "        index = match.start()  # 中文字符的索引位置\n",
    "        rows[i][0] = rows[i][0][:index] + ',' + rows[i][0][index:]\n",
    "\n",
    "# 写入更新后的CSV文件\n",
    "with open('未匹配商品名_天猫.csv', 'w', encoding='utf-8', newline='') as file:\n",
    "    writer = csv.writer(file)\n",
    "    writer.writerows(rows)"
   ]
  },
  {
   "cell_type": "code",
   "execution_count": null,
   "id": "99d80d1f",
   "metadata": {},
   "outputs": [],
   "source": [
    "import pandas as pd\n",
    "import numpy as np\n",
    "import re\n",
    "\n",
    "# 加载原始数据 \n",
    "#！！！！！！！！千万不要动数据顺序，因为前面对名称进行了逗号编辑\n",
    "matchdf = pd.read_csv('未匹配商品名_天猫.csv') #未清洗商品名.csv 京东\n",
    "\n",
    "# 加载已有药品列表\n",
    "drug_list = pd.read_csv('药品编码.csv')"
   ]
  },
  {
   "cell_type": "code",
   "execution_count": null,
   "id": "1815ce6f",
   "metadata": {},
   "outputs": [],
   "source": [
    "pattern = r'\\b(' + '|'.join(map(re.escape, drug_list['Drug'].tolist())) + r')\\b'\n",
    "matchdf['Matched Drug'] = matchdf['Text'].str.extract(pattern, flags=re.IGNORECASE)"
   ]
  },
  {
   "cell_type": "code",
   "execution_count": null,
   "id": "92275ae3",
   "metadata": {},
   "outputs": [],
   "source": [
    "matchdf.to_csv('matched_drug_tm.csv', index=False)"
   ]
  },
  {
   "cell_type": "code",
   "execution_count": null,
   "id": "36c6e8a4",
   "metadata": {},
   "outputs": [],
   "source": []
  },
  {
   "cell_type": "markdown",
   "id": "50d4e3c5",
   "metadata": {},
   "source": [
    "## 爬取类别数据"
   ]
  },
  {
   "cell_type": "code",
   "execution_count": null,
   "id": "187c8515",
   "metadata": {},
   "outputs": [],
   "source": [
    "from bs4 import BeautifulSoup\n",
    "import requests\n",
    "import csv\n",
    "import time\n",
    "import pandas as pd\n",
    "\n",
    "headers = {\n",
    "    'User-Agent': 'Mozilla/5.0 (Windows NT 10.0; Win64; x64) AppleWebKit/537.36 (KHTML, like Gecko) Chrome/88.0.4324.190 Safari/537.36',\n",
    "    'Referer': 'https://www.google.com/'\n",
    "}"
   ]
  },
  {
   "cell_type": "code",
   "execution_count": null,
   "id": "aa077dad",
   "metadata": {},
   "outputs": [],
   "source": [
    "otcdf = pd.DataFrame(columns=[\"name\", \"otc0\", \"otc1\", \"otc2\"])\n",
    "\n",
    "# OTC判断 一共有两个文件\n",
    "with open('/Users/lesliedeng/Desktop/毕设/code/otc_raw2.csv', 'r', encoding='utf-8') as file:\n",
    "    reader = csv.reader(file)\n",
    "    reader = list(reader)\n",
    "    # 遍历每一行\n",
    "    for row in reader[1286:]:\n",
    "        # 获取字符串\n",
    "        string = row[0]\n",
    "        # 生成URL\n",
    "        url = f'https://db.yaozh.com/otc?name={string}&type=&sort=&notice='\n",
    "        response = requests.get(url, headers=headers)\n",
    "        html_code = response.text\n",
    "        soup = BeautifulSoup(html_code,'html.parser')\n",
    "        \n",
    "        time.sleep(3)\n",
    "        \n",
    "        # 初始化变量值\n",
    "        otc0 = 0\n",
    "        otc1 = 0\n",
    "        otc2 = 0\n",
    "    \n",
    "        cell = soup.find(text=\"甲类\")\n",
    "        cell2 = soup.find(text=\"乙类\")\n",
    "        \n",
    "        if cell:\n",
    "            otc1 = 1\n",
    "        if cell2:\n",
    "            otc2 = 1\n",
    "        if cell == None and cell2 == None:\n",
    "            otc0 = 1\n",
    "\n",
    "        #储存在df中\n",
    "        otcdf = pd.concat([otcdf, pd.DataFrame({\"name\": [string], \"otc0\": [otc0], \"otc1\": [otc1], \"otc2\": [otc2]})], ignore_index=True)"
   ]
  },
  {
   "cell_type": "code",
   "execution_count": null,
   "id": "9c95eafc",
   "metadata": {},
   "outputs": [],
   "source": [
    "otcdf"
   ]
  },
  {
   "cell_type": "code",
   "execution_count": null,
   "id": "7c565a65",
   "metadata": {},
   "outputs": [],
   "source": [
    "otcdf.to_csv('otcdf2_2.csv', index=False)"
   ]
  },
  {
   "cell_type": "code",
   "execution_count": null,
   "id": "2f201490",
   "metadata": {},
   "outputs": [],
   "source": [
    "# 药品医保分类\n",
    "catadf = pd.DataFrame(columns=[\"name\", \"cata\",\"standard\"])\n",
    "\n",
    "with open('/Users/lesliedeng/Desktop/毕设/code/otc_raw2.csv', 'r', encoding='utf-8') as file: ##在这里直接otc_raw就是raw文件\n",
    "    reader = csv.reader(file)\n",
    "    reader = list(reader)\n",
    "    # 遍历每一行\n",
    "    for row in reader[1:]:\n",
    "        # 获取字符串\n",
    "        string = row[0]\n",
    "        # 生成URL\n",
    "        url = f'https://db.yaozh.com/yibao?comprehensivesearchcontent={string}&'\n",
    "        response = requests.get(url, headers=headers)\n",
    "        html_code = response.text\n",
    "        soup = BeautifulSoup(html_code,'html.parser')\n",
    "        \n",
    "        time.sleep(2)\n",
    "        \n",
    "        tbody_element = soup.find(\"tbody\")\n",
    "        if tbody_element:\n",
    "            rows = tbody_element.find(\"tr\")\n",
    "            #row_soup = BeautifulSoup(str(rows), \"html.parser\")\n",
    "            th_content = rows.find(\"th\").get_text(strip=True)\n",
    "            td_content = rows.find_all(\"td\")[4].get_text(strip=True)\n",
    "        else:\n",
    "            th_content = \"na\"\n",
    "            td_content = \"na\"\n",
    "\n",
    "        #储存在df中\n",
    "        catadf = pd.concat([catadf, pd.DataFrame({\"name\": [string], \"standard\": [th_content], \"cata\": [td_content]})], ignore_index=True)"
   ]
  },
  {
   "cell_type": "code",
   "execution_count": null,
   "id": "1826b7cd",
   "metadata": {},
   "outputs": [],
   "source": [
    "catadf"
   ]
  },
  {
   "cell_type": "code",
   "execution_count": null,
   "id": "3f965086",
   "metadata": {},
   "outputs": [],
   "source": [
    "catadf.to_csv('catadf2.csv', index=False)"
   ]
  },
  {
   "cell_type": "code",
   "execution_count": null,
   "id": "fadbe64c",
   "metadata": {},
   "outputs": [],
   "source": []
  },
  {
   "cell_type": "code",
   "execution_count": null,
   "id": "be494146",
   "metadata": {
    "scrolled": true
   },
   "outputs": [],
   "source": [
    "drug_category"
   ]
  },
  {
   "cell_type": "markdown",
   "id": "554aa3c3",
   "metadata": {},
   "source": [
    "# 描述统计 可视化"
   ]
  },
  {
   "cell_type": "code",
   "execution_count": null,
   "id": "7155c856",
   "metadata": {},
   "outputs": [],
   "source": [
    "import altair as alt\n",
    "import bokeh\n",
    "import seaborn"
   ]
  },
  {
   "cell_type": "code",
   "execution_count": null,
   "id": "1345fc71",
   "metadata": {},
   "outputs": [],
   "source": [
    "jd_df = pd.read_excel('/Users/lesliedeng/Desktop/毕设/code/jd_昆明销售按类别带地理.xlsx')"
   ]
  },
  {
   "cell_type": "code",
   "execution_count": null,
   "id": "d6366dca",
   "metadata": {},
   "outputs": [],
   "source": [
    "# 按照'national cata'列进行分组并求'amount'列的总和\n",
    "grouped = jd_df.groupby('national cata')['amount'].sum().reset_index()\n",
    "\n",
    "# 统计各'national cata'出现的次数（即每组的大小）\n",
    "count_df = jd_df['national cata'].value_counts().reset_index()\n",
    "count_df.columns = ['national cata', 'counts']\n",
    "\n",
    "# 若要合并这两份结果，可以使用merge\n",
    "result = pd.merge(grouped, count_df, on='national cata', how='left')\n",
    "result['average price'] = result['amount'] / result['counts']\n",
    "result"
   ]
  },
  {
   "cell_type": "code",
   "execution_count": null,
   "id": "e6d75982",
   "metadata": {},
   "outputs": [],
   "source": [
    "alt.Chart(result).mark_circle().encode(\n",
    "    alt.X('counts'),\n",
    "    alt.Y('average price'),\n",
    "    size='amount',\n",
    "    tooltip='national cata'\n",
    ").mark_text(\n",
    "    align='center',\n",
    "    baseline='middle',\n",
    "    dy=-10,  # 调整文本的垂直位置\n",
    "    fontSize=10,  # 调整文本的字体大小\n",
    "    text=alt.Text('amount:Q')\n",
    ")"
   ]
  },
  {
   "cell_type": "code",
   "execution_count": null,
   "id": "68ace177",
   "metadata": {},
   "outputs": [],
   "source": [
    "from vega_datasets import data\n",
    "\n",
    "source = data.gapminder_health_income.url\n",
    "source"
   ]
  },
  {
   "cell_type": "code",
   "execution_count": null,
   "id": "1cd437b3",
   "metadata": {},
   "outputs": [],
   "source": [
    "#处理店铺间距离 FOR DID\n",
    "df=pd.read_excel('/Users/lesliedeng/Desktop/毕设/rawdata/昆明门店开通O2O时间.xlsx')\n",
    "\n",
    "from haversine import haversine, Unit\n",
    "\n",
    "def distance(lat1, lon1, lat2, lon2):\n",
    "    return haversine((lat1, lon1), (lat2, lon2), unit=Unit.KILOMETERS)\n",
    "\n",
    "\n",
    "# 创建一个空的DataFrame来存储距离矩阵\n",
    "distance_matrix = pd.DataFrame(columns=df['store_id'], index=df['store_id'])\n",
    "\n",
    "for i, row_i in df.iterrows():\n",
    "    for j, row_j in df.iterrows():\n",
    "        # 计算距离并填入矩阵\n",
    "        dist = distance(row_i['latitude'], row_i['longitude'], row_j['latitude'], row_j['longitude'])\n",
    "        distance_matrix.at[row_i['store_id'], row_j['store_id']] = dist\n",
    "\n",
    "# 对于对称的距离矩阵，需要填充对角线以及对角线上方的部分\n",
    "distance_matrix += distance_matrix.T\n",
    "distance_matrix.fillna(0, inplace=True)"
   ]
  },
  {
   "cell_type": "code",
   "execution_count": null,
   "id": "35521d3d",
   "metadata": {},
   "outputs": [],
   "source": [
    "distance_matrix.to_csv('distance_matrix.csv')"
   ]
  },
  {
   "cell_type": "code",
   "execution_count": null,
   "id": "4e8e16d3",
   "metadata": {},
   "outputs": [],
   "source": [
    "# 找出距离小于3千米的配对（不包括自身）\n",
    "close_pairs = []\n",
    "for i in distance_matrix.index:\n",
    "    for j in distance_matrix.columns:\n",
    "        if i != j and distance_matrix.loc[i, j] <= 3:\n",
    "            close_pairs.append((i, j, distance_matrix.loc[i, j]))\n",
    "\n",
    "# 将配对信息整理为DataFrame\n",
    "close_pairs_df = pd.DataFrame(close_pairs, columns=['ShopID_1', 'ShopID_2', 'Distance(Km)'])\n",
    "close_pairs_df"
   ]
  },
  {
   "cell_type": "code",
   "execution_count": null,
   "id": "3eff5f6e",
   "metadata": {},
   "outputs": [],
   "source": [
    "distance_matrix"
   ]
  },
  {
   "cell_type": "code",
   "execution_count": null,
   "id": "98a8c846",
   "metadata": {},
   "outputs": [],
   "source": [
    "close_pairs_df.to_csv('close_pairs_df.csv')"
   ]
  },
  {
   "cell_type": "code",
   "execution_count": null,
   "id": "cd33df24",
   "metadata": {},
   "outputs": [],
   "source": [
    "distance_matrix=pd.read_excel('/Users/lesliedeng/Desktop/毕设/code/回归/did/distance_matrix_open_unopen.xlsx', sheet_name='Sheet1',index_col='store_id')"
   ]
  },
  {
   "cell_type": "code",
   "execution_count": null,
   "id": "59601470",
   "metadata": {},
   "outputs": [],
   "source": [
    "distance_matrix"
   ]
  },
  {
   "cell_type": "code",
   "execution_count": null,
   "id": "74ebfd04",
   "metadata": {},
   "outputs": [],
   "source": [
    "distance_matrix.index"
   ]
  },
  {
   "cell_type": "code",
   "execution_count": null,
   "id": "a3c78be6",
   "metadata": {},
   "outputs": [],
   "source": [
    "# 首先确保所有的距离值都是正数（因为距离不能为负），然后将df转换为布尔型 DataFrame\n",
    "distance_matrix_1 = distance_matrix > 5  # 所有距离大于5km的位置为True\n",
    "\n",
    "# 对于每一列（未开通服务的店铺），检查其所有行（已开通服务的店铺）是否都满足条件（距离大于5km）\n",
    "all_above_threshold = distance_matrix_1.all(axis=0)\n",
    "\n",
    "# 提取出满足条件的店铺名\n",
    "unopened_stores_far_away = all_above_threshold[all_above_threshold].index.tolist()\n",
    "\n",
    "print(\"与所有开通服务店铺距离均大于5km的未开通服务店铺名单：\", unopened_stores_far_away)"
   ]
  },
  {
   "cell_type": "code",
   "execution_count": null,
   "id": "5dab6459",
   "metadata": {},
   "outputs": [],
   "source": [
    "# 设置距离阈值为5km\n",
    "distance_threshold = 5\n",
    "\n",
    "# 创建一个空的DataFrame来存储结果，这里我们使用distance_matrix的行名和列名\n",
    "results = pd.DataFrame(distance_matrix.index, index=distance_matrix.index, columns=distance_matrix.columns)\n",
    "\n",
    "# 遍历矩阵中的每个元素\n",
    "for row_name in distance_matrix.index:\n",
    "    for col_name in distance_matrix.columns:\n",
    "        if distance_matrix.at[row_name, col_name] < distance_threshold:\n",
    "            results.at[row_name, col_name] = '小于5km'\n",
    "\n",
    "# 打印结果\n",
    "results"
   ]
  },
  {
   "cell_type": "code",
   "execution_count": null,
   "id": "4b85e850",
   "metadata": {},
   "outputs": [],
   "source": [
    "results.to_csv('open_unopen_matrix5km.csv')"
   ]
  },
  {
   "cell_type": "code",
   "execution_count": null,
   "id": "17f77115",
   "metadata": {},
   "outputs": [],
   "source": []
  }
 ],
 "metadata": {
  "kernelspec": {
   "display_name": "Python [conda env:base]",
   "language": "python",
   "name": "base"
  },
  "language_info": {
   "codemirror_mode": {
    "name": "ipython",
    "version": 3
   },
   "file_extension": ".py",
   "mimetype": "text/x-python",
   "name": "python",
   "nbconvert_exporter": "python",
   "pygments_lexer": "ipython3",
   "version": "3.9.10"
  }
 },
 "nbformat": 4,
 "nbformat_minor": 5
}
